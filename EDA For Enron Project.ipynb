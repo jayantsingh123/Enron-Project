{
 "cells": [
  {
   "cell_type": "markdown",
   "metadata": {},
   "source": [
    "First, import the required packages."
   ]
  },
  {
   "cell_type": "code",
   "execution_count": 42,
   "metadata": {},
   "outputs": [],
   "source": [
    "import pandas as pd\n",
    "import matplotlib.pyplot as plt\n",
    "import seaborn as sns\n",
    "%matplotlib inline\n",
    "sns.set(style=\"darkgrid\",font_scale=1)\n",
    "import numpy as np\n",
    "from sklearn.feature_selection import SelectKBest, f_classif\n",
    "from sklearn.preprocessing import MinMaxScaler\n",
    "from sklearn.model_selection import train_test_split\n",
    "#from sklearn import preprocessing\n",
    "from sklearn.linear_model import LogisticRegression\n",
    "from sklearn.metrics import recall_score\n",
    "from sklearn.metrics import precision_score\n",
    "from sklearn.metrics import confusion_matrix\n",
    "from sklearn.metrics import classification_report\n",
    "from sklearn import svm\n",
    "from sklearn.model_selection import cross_val_score\n",
    "from sklearn.model_selection import GridSearchCV\n",
    "from sklearn.naive_bayes import GaussianNB\n",
    "from sklearn.model_selection import StratifiedKFold\n",
    "from sklearn.preprocessing import Imputer\n",
    "from sklearn.decomposition import PCA\n",
    "from matplotlib.lines import Line2D\n",
    "from sklearn.metrics import precision_recall_curve\n",
    "from sklearn import metrics\n",
    "from IPython.display import display, HTML\n",
    "from sklearn.linear_model import LogisticRegressionCV\n",
    "import warnings\n",
    "warnings.filterwarnings('ignore')\n",
    "from sklearn.ensemble import RandomForestClassifier\n",
    "from itertools import product\n"
   ]
  },
  {
   "cell_type": "code",
   "execution_count": 43,
   "metadata": {},
   "outputs": [],
   "source": [
    "pd.set_option('display.max_columns', 500)\n",
    "pd.set_option('display.max_rows', 500)"
   ]
  },
  {
   "cell_type": "markdown",
   "metadata": {},
   "source": [
    "To begin with, we load the dataset. It is a pickle file, which we are loading as a dataframe. "
   ]
  },
  {
   "cell_type": "code",
   "execution_count": 44,
   "metadata": {},
   "outputs": [
    {
     "data": {
      "text/plain": [
       "dict"
      ]
     },
     "execution_count": 44,
     "metadata": {},
     "output_type": "execute_result"
    }
   ],
   "source": [
    "my_data=pd.read_pickle('my_dataset.pkl')\n",
    "type(my_data)"
   ]
  },
  {
   "cell_type": "markdown",
   "metadata": {},
   "source": [
    "It will be comfortable to convert the dictionary to a pandas dataframe for easy data exploration. Using a pandas dataframe is  a better idea, since it allows us to slice and dice the data. Moreover, we assign employees, which were keys in the dictionary as a column in the dataframe. "
   ]
  },
  {
   "cell_type": "code",
   "execution_count": 45,
   "metadata": {},
   "outputs": [
    {
     "data": {
      "text/plain": [
       "(146, 21)"
      ]
     },
     "execution_count": 45,
     "metadata": {},
     "output_type": "execute_result"
    }
   ],
   "source": [
    "df = pd.DataFrame.from_records(list(my_data.values()))\n",
    "df.shape"
   ]
  },
  {
   "cell_type": "markdown",
   "metadata": {},
   "source": [
    "This dataset has only 146 rows, which is significantly small"
   ]
  },
  {
   "cell_type": "code",
   "execution_count": 46,
   "metadata": {},
   "outputs": [],
   "source": [
    "employees = pd.Series(list(my_data.keys()))\n",
    "df['employees']= employees"
   ]
  },
  {
   "cell_type": "code",
   "execution_count": 47,
   "metadata": {},
   "outputs": [],
   "source": [
    "df.index = range(1,len(df)+1)\n",
    "#df.head(5)"
   ]
  },
  {
   "cell_type": "code",
   "execution_count": 48,
   "metadata": {},
   "outputs": [],
   "source": [
    "#Replace NaN by 0 to take care of missing values.\n",
    "df=df.fillna(0)\n",
    "df=df.replace('NaN',0)\n",
    "df_new=df\n",
    "#df_new.columns"
   ]
  },
  {
   "cell_type": "markdown",
   "metadata": {},
   "source": [
    "Since the missing values, NaN are actually text, it was important to use **replace()** function, so as to replace them by 0. "
   ]
  },
  {
   "cell_type": "markdown",
   "metadata": {},
   "source": [
    "## Outlier Detection\n",
    "  In order to identify outliers, we identify employees where the sum of payment opions or stock options does not match\n",
    "  total payments or total stock value. We found two employees, Sanjay Bhatnagar and Robert Belfer where payments do no match exactly. They can be treated as outliers. Comparing with the actual data in .pdf file, we observe that for above two employees,\n",
    "    there is misalignment in the data. Next, we check the index Total, it certainly is an outlier and will be dropped."
   ]
  },
  {
   "cell_type": "code",
   "execution_count": 49,
   "metadata": {},
   "outputs": [
    {
     "data": {
      "text/html": [
       "<div>\n",
       "<style scoped>\n",
       "    .dataframe tbody tr th:only-of-type {\n",
       "        vertical-align: middle;\n",
       "    }\n",
       "\n",
       "    .dataframe tbody tr th {\n",
       "        vertical-align: top;\n",
       "    }\n",
       "\n",
       "    .dataframe thead th {\n",
       "        text-align: right;\n",
       "    }\n",
       "</style>\n",
       "<table border=\"1\" class=\"dataframe\">\n",
       "  <thead>\n",
       "    <tr style=\"text-align: right;\">\n",
       "      <th></th>\n",
       "      <th>bonus</th>\n",
       "      <th>deferral_payments</th>\n",
       "      <th>deferred_income</th>\n",
       "      <th>director_fees</th>\n",
       "      <th>email_address</th>\n",
       "      <th>exercised_stock_options</th>\n",
       "      <th>expenses</th>\n",
       "      <th>from_messages</th>\n",
       "      <th>from_poi_to_this_person</th>\n",
       "      <th>from_this_person_to_poi</th>\n",
       "      <th>loan_advances</th>\n",
       "      <th>long_term_incentive</th>\n",
       "      <th>other</th>\n",
       "      <th>poi</th>\n",
       "      <th>restricted_stock</th>\n",
       "      <th>restricted_stock_deferred</th>\n",
       "      <th>salary</th>\n",
       "      <th>shared_receipt_with_poi</th>\n",
       "      <th>to_messages</th>\n",
       "      <th>total_payments</th>\n",
       "      <th>total_stock_value</th>\n",
       "      <th>employees</th>\n",
       "      <th>total_payment</th>\n",
       "    </tr>\n",
       "  </thead>\n",
       "  <tbody>\n",
       "    <tr>\n",
       "      <th>25</th>\n",
       "      <td>0</td>\n",
       "      <td>-102500</td>\n",
       "      <td>0</td>\n",
       "      <td>3285</td>\n",
       "      <td>0</td>\n",
       "      <td>3285</td>\n",
       "      <td>0</td>\n",
       "      <td>0</td>\n",
       "      <td>0</td>\n",
       "      <td>0</td>\n",
       "      <td>0</td>\n",
       "      <td>0</td>\n",
       "      <td>0</td>\n",
       "      <td>0</td>\n",
       "      <td>0</td>\n",
       "      <td>44093</td>\n",
       "      <td>0</td>\n",
       "      <td>0</td>\n",
       "      <td>0</td>\n",
       "      <td>102500</td>\n",
       "      <td>-44093</td>\n",
       "      <td>BELFER ROBERT</td>\n",
       "      <td>-99215</td>\n",
       "    </tr>\n",
       "    <tr>\n",
       "      <th>118</th>\n",
       "      <td>0</td>\n",
       "      <td>0</td>\n",
       "      <td>0</td>\n",
       "      <td>137864</td>\n",
       "      <td>sanjay.bhatnagar@enron.com</td>\n",
       "      <td>2604490</td>\n",
       "      <td>0</td>\n",
       "      <td>29</td>\n",
       "      <td>0</td>\n",
       "      <td>1</td>\n",
       "      <td>0</td>\n",
       "      <td>0</td>\n",
       "      <td>137864</td>\n",
       "      <td>0</td>\n",
       "      <td>-2604490</td>\n",
       "      <td>15456290</td>\n",
       "      <td>0</td>\n",
       "      <td>463</td>\n",
       "      <td>523</td>\n",
       "      <td>15456290</td>\n",
       "      <td>0</td>\n",
       "      <td>BHATNAGAR SANJAY</td>\n",
       "      <td>275728</td>\n",
       "    </tr>\n",
       "  </tbody>\n",
       "</table>\n",
       "</div>"
      ],
      "text/plain": [
       "     bonus  deferral_payments  deferred_income  director_fees  \\\n",
       "25       0            -102500                0           3285   \n",
       "118      0                  0                0         137864   \n",
       "\n",
       "                  email_address  exercised_stock_options  expenses  \\\n",
       "25                            0                     3285         0   \n",
       "118  sanjay.bhatnagar@enron.com                  2604490         0   \n",
       "\n",
       "     from_messages  from_poi_to_this_person  from_this_person_to_poi  \\\n",
       "25               0                        0                        0   \n",
       "118             29                        0                        1   \n",
       "\n",
       "     loan_advances  long_term_incentive   other  poi  restricted_stock  \\\n",
       "25               0                    0       0    0                 0   \n",
       "118              0                    0  137864    0          -2604490   \n",
       "\n",
       "     restricted_stock_deferred  salary  shared_receipt_with_poi  to_messages  \\\n",
       "25                       44093       0                        0            0   \n",
       "118                   15456290       0                      463          523   \n",
       "\n",
       "     total_payments  total_stock_value         employees  total_payment  \n",
       "25           102500             -44093     BELFER ROBERT         -99215  \n",
       "118        15456290                  0  BHATNAGAR SANJAY         275728  "
      ]
     },
     "execution_count": 49,
     "metadata": {},
     "output_type": "execute_result"
    }
   ],
   "source": [
    "df_new['total_payment'] = df_new['bonus']+df_new['deferral_payments']+df_new['deferred_income']+df_new['director_fees']\\\n",
    "                           +df_new['expenses']+df_new['loan_advances']+df_new['long_term_incentive']+df_new['other']+df_new['salary']\n",
    "\n",
    "\n",
    "payment_unequal = df_new[df_new['total_payment']!=df_new['total_payments']]\n",
    "payment_unequal"
   ]
  },
  {
   "cell_type": "markdown",
   "metadata": {},
   "source": [
    "We update the values for above two entities according to the pdf file."
   ]
  },
  {
   "cell_type": "code",
   "execution_count": 50,
   "metadata": {},
   "outputs": [],
   "source": [
    "df_new.at[25,'deferred_income']=-102500\n",
    "df_new.at[25,'deferral_payments']=0\n",
    "df_new.at[25,'expenses']=3285\n",
    "df_new.at[25,'director_fees']=102500\n",
    "df_new.at[25,'total_payments']=3285\n",
    "df_new.at[25,'exercised_stock_options']=0\n",
    "df_new.at[25,'restricted_stock']=44093\n",
    "df_new.at[25,'restricted_stock_deferred']=-44093\n",
    "df_new.at[25,'total_stock_value']=0\n",
    "\n",
    "df_new.at[118,'total_payments']=137864\n",
    "df_new.at[118,'expenses']=137864\n",
    "df_new.at[118,'other']=0\n",
    "df_new.at[118,'director_fees']=0\n",
    "df_new.at[118,'exercised_stock_options']=15456290\n",
    "df_new.at[118,'restricted_stock']=2604490\n",
    "df_new.at[118,'restricted_stock_deferred']=-2604490\n",
    "df_new.at[118,'total_stock_value']=15456290"
   ]
  },
  {
   "cell_type": "markdown",
   "metadata": {},
   "source": [
    "After modifying the data for these two employees, Sanjay Bhatnagar and Robert Belfer, we recompute the value for the column total_payment, and check the values for above employees. We see that the values make sense now. Therefore, we don't need to drop these two rows. It is useful for our analysis, in the sense that we have a small dataset."
   ]
  },
  {
   "cell_type": "markdown",
   "metadata": {},
   "source": [
    "On the other hand, the employee names THE TRAVEL AGENCY IN THE PARK and TOTAL seem incorrect, and doesn't seem to represent Enron employees. Hence, they can be deleted.   "
   ]
  },
  {
   "cell_type": "code",
   "execution_count": 51,
   "metadata": {},
   "outputs": [],
   "source": [
    "df_new=df_new[~df_new['employees'] .isin (['TOTAL','THE TRAVEL AGENCY IN THE PARK'])]"
   ]
  },
  {
   "cell_type": "code",
   "execution_count": 52,
   "metadata": {},
   "outputs": [],
   "source": [
    "df_new.index=range(1,len(df_new)+1)"
   ]
  },
  {
   "cell_type": "markdown",
   "metadata": {},
   "source": [
    "Are there any entries which are identically zero for all columns? We can safely delete those rows. "
   ]
  },
  {
   "cell_type": "code",
   "execution_count": 53,
   "metadata": {},
   "outputs": [
    {
     "data": {
      "text/plain": [
       "Index([u'bonus', u'deferral_payments', u'deferred_income', u'director_fees',\n",
       "       u'exercised_stock_options', u'expenses', u'from_messages',\n",
       "       u'from_poi_to_this_person', u'from_this_person_to_poi',\n",
       "       u'loan_advances', u'long_term_incentive', u'other', u'poi',\n",
       "       u'restricted_stock', u'restricted_stock_deferred', u'salary',\n",
       "       u'shared_receipt_with_poi', u'to_messages', u'total_payments',\n",
       "       u'total_stock_value', u'total_payment'],\n",
       "      dtype='object')"
      ]
     },
     "execution_count": 53,
     "metadata": {},
     "output_type": "execute_result"
    }
   ],
   "source": [
    "#is there any row with zeroes in entire row\n",
    "data_2 = df_new.drop(['employees','email_address'],axis=1)\n",
    "data_2.columns\n",
    "#df_new.iloc[89,]"
   ]
  },
  {
   "cell_type": "code",
   "execution_count": 54,
   "metadata": {},
   "outputs": [
    {
     "data": {
      "text/plain": [
       "Int64Index([24, 91], dtype='int64')"
      ]
     },
     "execution_count": 54,
     "metadata": {},
     "output_type": "execute_result"
    }
   ],
   "source": [
    "data_2['rowsum']=data_2.sum(axis=1)\n",
    "idx=data_2[data_2['rowsum']==0].index\n",
    "idx"
   ]
  },
  {
   "cell_type": "code",
   "execution_count": 55,
   "metadata": {},
   "outputs": [
    {
     "data": {
      "text/html": [
       "<div>\n",
       "<style scoped>\n",
       "    .dataframe tbody tr th:only-of-type {\n",
       "        vertical-align: middle;\n",
       "    }\n",
       "\n",
       "    .dataframe tbody tr th {\n",
       "        vertical-align: top;\n",
       "    }\n",
       "\n",
       "    .dataframe thead th {\n",
       "        text-align: right;\n",
       "    }\n",
       "</style>\n",
       "<table border=\"1\" class=\"dataframe\">\n",
       "  <thead>\n",
       "    <tr style=\"text-align: right;\">\n",
       "      <th></th>\n",
       "      <th>bonus</th>\n",
       "      <th>deferral_payments</th>\n",
       "      <th>deferred_income</th>\n",
       "      <th>director_fees</th>\n",
       "      <th>email_address</th>\n",
       "      <th>exercised_stock_options</th>\n",
       "      <th>expenses</th>\n",
       "      <th>from_messages</th>\n",
       "      <th>from_poi_to_this_person</th>\n",
       "      <th>from_this_person_to_poi</th>\n",
       "      <th>loan_advances</th>\n",
       "      <th>long_term_incentive</th>\n",
       "      <th>other</th>\n",
       "      <th>poi</th>\n",
       "      <th>restricted_stock</th>\n",
       "      <th>restricted_stock_deferred</th>\n",
       "      <th>salary</th>\n",
       "      <th>shared_receipt_with_poi</th>\n",
       "      <th>to_messages</th>\n",
       "      <th>total_payments</th>\n",
       "      <th>total_stock_value</th>\n",
       "      <th>employees</th>\n",
       "      <th>total_payment</th>\n",
       "    </tr>\n",
       "  </thead>\n",
       "  <tbody>\n",
       "    <tr>\n",
       "      <th>24</th>\n",
       "      <td>0</td>\n",
       "      <td>0</td>\n",
       "      <td>-98784</td>\n",
       "      <td>98784</td>\n",
       "      <td>0</td>\n",
       "      <td>0</td>\n",
       "      <td>0</td>\n",
       "      <td>0</td>\n",
       "      <td>0</td>\n",
       "      <td>0</td>\n",
       "      <td>0</td>\n",
       "      <td>0</td>\n",
       "      <td>0</td>\n",
       "      <td>0</td>\n",
       "      <td>32460</td>\n",
       "      <td>-32460</td>\n",
       "      <td>0</td>\n",
       "      <td>0</td>\n",
       "      <td>0</td>\n",
       "      <td>0</td>\n",
       "      <td>0</td>\n",
       "      <td>CHAN RONNIE</td>\n",
       "      <td>0</td>\n",
       "    </tr>\n",
       "    <tr>\n",
       "      <th>91</th>\n",
       "      <td>0</td>\n",
       "      <td>0</td>\n",
       "      <td>0</td>\n",
       "      <td>0</td>\n",
       "      <td>0</td>\n",
       "      <td>0</td>\n",
       "      <td>0</td>\n",
       "      <td>0</td>\n",
       "      <td>0</td>\n",
       "      <td>0</td>\n",
       "      <td>0</td>\n",
       "      <td>0</td>\n",
       "      <td>0</td>\n",
       "      <td>0</td>\n",
       "      <td>0</td>\n",
       "      <td>0</td>\n",
       "      <td>0</td>\n",
       "      <td>0</td>\n",
       "      <td>0</td>\n",
       "      <td>0</td>\n",
       "      <td>0</td>\n",
       "      <td>LOCKHART EUGENE E</td>\n",
       "      <td>0</td>\n",
       "    </tr>\n",
       "  </tbody>\n",
       "</table>\n",
       "</div>"
      ],
      "text/plain": [
       "    bonus  deferral_payments  deferred_income  director_fees email_address  \\\n",
       "24      0                  0           -98784          98784             0   \n",
       "91      0                  0                0              0             0   \n",
       "\n",
       "    exercised_stock_options  expenses  from_messages  from_poi_to_this_person  \\\n",
       "24                        0         0              0                        0   \n",
       "91                        0         0              0                        0   \n",
       "\n",
       "    from_this_person_to_poi  loan_advances  long_term_incentive  other  poi  \\\n",
       "24                        0              0                    0      0    0   \n",
       "91                        0              0                    0      0    0   \n",
       "\n",
       "    restricted_stock  restricted_stock_deferred  salary  \\\n",
       "24             32460                     -32460       0   \n",
       "91                 0                          0       0   \n",
       "\n",
       "    shared_receipt_with_poi  to_messages  total_payments  total_stock_value  \\\n",
       "24                        0            0               0                  0   \n",
       "91                        0            0               0                  0   \n",
       "\n",
       "            employees  total_payment  \n",
       "24        CHAN RONNIE              0  \n",
       "91  LOCKHART EUGENE E              0  "
      ]
     },
     "execution_count": 55,
     "metadata": {},
     "output_type": "execute_result"
    }
   ],
   "source": [
    "df_new.iloc[[23,90],:]"
   ]
  },
  {
   "cell_type": "markdown",
   "metadata": {},
   "source": [
    "We found that indices 24 and 91 have majority of entries as zero. In particular, index 91 has all entries 0 identically. Therefore we will delete those two indices from df_new. We saw that the employees are Chan Ronnie and Lockhart Eugene."
   ]
  },
  {
   "cell_type": "code",
   "execution_count": 56,
   "metadata": {},
   "outputs": [],
   "source": [
    "df_new.drop([24,91],inplace=True);\n",
    "#df_new[df_new['employees'] .isin (['CHAN RONNIE','LOCKHART EUGENE E'])]"
   ]
  },
  {
   "cell_type": "code",
   "execution_count": 57,
   "metadata": {},
   "outputs": [],
   "source": [
    "df_new.index=range(1,len(df_new)+1)"
   ]
  },
  {
   "cell_type": "markdown",
   "metadata": {},
   "source": [
    "So, we have deleted four entries in total, resulting in dataset of size 142.\n",
    "\n",
    "## Data Exploration Using Visuals\n",
    "There are several numeric varibales, 21 of them.Before we decide the features which can decide whether an entity is POI or not, it is essential to perform Exploratory Data Analysis (EDA) on it.\n",
    "\n",
    "## Payment Related Variables\n"
   ]
  },
  {
   "cell_type": "markdown",
   "metadata": {},
   "source": [
    "To begin with, we look at some variables related to Payments Information. These include;\n",
    "* Salary,\n",
    "* Bonus,\n",
    "* Long Term Incentive,\n",
    "* Deferred Income,\n",
    "* Deferral Payments,\n",
    "* Loan Advances,\n",
    "* Expenses,\n",
    "* Director Fees, and \n",
    "* Total Payments."
   ]
  },
  {
   "cell_type": "markdown",
   "metadata": {},
   "source": [
    "### Distribution of Salary\n",
    "Salary of the entity is numeric in nature. It will be suitable to compare the distribution for different levels of the response variable, POI. Boxplot seems a suitable choice for this purpose. Unfortunately Boxplot does not depict modality in the ditribution, if there are multiple points of maximum in the distribution of the numeric variable. In this case, violin plot seems to be suitable choice.   "
   ]
  },
  {
   "cell_type": "code",
   "execution_count": 58,
   "metadata": {},
   "outputs": [
    {
     "data": {
      "image/png": "[encoded data removed]",
      "text/plain": [
       "<Figure size 432x288 with 1 Axes>"
      ]
     },
     "metadata": {},
     "output_type": "display_data"
    }
   ],
   "source": [
    "ax_violin = sns.violinplot(x=\"poi\", y=\"salary\",data=df_new, palette=\"Set2\",scale=\"count\", inner=\"quartile\")\n",
    "ax_violin.set_title(\"Distribution of Salary Across Poi\")\n",
    "plt.show()"
   ]
  },
  {
   "cell_type": "markdown",
   "metadata": {},
   "source": [
    "Since I am learning the behavior of violin plot, it is essential to check the behavior of data, as depicted by the violin plot. We see that huge number of non-POI's had very low salary, as expected and represented by the width of the violin plot. Similarly, we have significant number of non-POI's with salary of around 250000. We should look at the salary distribution for non-POI's.  "
   ]
  },
  {
   "cell_type": "code",
   "execution_count": 59,
   "metadata": {},
   "outputs": [
    {
     "data": {
      "image/png": "[encoded data removed]",
      "text/plain": [
       "<Figure size 432x288 with 1 Axes>"
      ]
     },
     "metadata": {},
     "output_type": "display_data"
    }
   ],
   "source": [
    "non_poi=df_new[df_new['poi']==0]\n",
    "poi=df_new[df_new['poi']==1]\n",
    "# the histogram of the data\n",
    "plt.hist(non_poi['salary'], 50,density=True, facecolor='g', alpha=0.75,label='non-poi')\n",
    "plt.hist(poi['salary'], 50, density=True,facecolor='r', alpha=0.75,label='poi')\n",
    "\n",
    "\n",
    "plt.xlabel('Salary')\n",
    "plt.ylabel('Count')\n",
    "plt.title(\"Salary Distribution\")\n",
    "plt.legend(loc='upper right')\n",
    "plt.show()"
   ]
  },
  {
   "cell_type": "markdown",
   "metadata": {},
   "source": [
    "We observe significant variation in salary for both POI's as well as non-POI's. The median salary for POI's is significantly higher than their non-POI counterparts. Therefore, salary seems to be possible choice for predictor. Moreover, the mean is significantly higher than the median for POI's, hence heavily skewed distribution is expected. This skewness can be attributed to few significant outliers. Some senior level executives, who are also POI's earn insanely high salaries. On the other hand, the distribution for non-POI's is roughly normal, actually it is left skewed.\n",
    "\n",
    "As a side blurb, we observe few outliers for both categories. It is expected that a POI can have large salary, but it will be interesting to identify the non-POI earning salary greater than 1 million. Lets find records coresponding to highest salary in both categories.  "
   ]
  },
  {
   "cell_type": "markdown",
   "metadata": {},
   "source": [
    "Among the POI's, maximum salary is 1.112 milions, whereas the maximum salary for non-POI's is 1.06 millions. Let's identify the identities earning this amount. "
   ]
  },
  {
   "cell_type": "code",
   "execution_count": 60,
   "metadata": {},
   "outputs": [],
   "source": [
    "def top(data,n=1,column='salary'):\n",
    "    return data.sort_values(by=column)[-n:]\n"
   ]
  },
  {
   "cell_type": "code",
   "execution_count": 61,
   "metadata": {},
   "outputs": [
    {
     "data": {
      "text/html": [
       "<div>\n",
       "<style scoped>\n",
       "    .dataframe tbody tr th:only-of-type {\n",
       "        vertical-align: middle;\n",
       "    }\n",
       "\n",
       "    .dataframe tbody tr th {\n",
       "        vertical-align: top;\n",
       "    }\n",
       "\n",
       "    .dataframe thead th {\n",
       "        text-align: right;\n",
       "    }\n",
       "</style>\n",
       "<table border=\"1\" class=\"dataframe\">\n",
       "  <thead>\n",
       "    <tr style=\"text-align: right;\">\n",
       "      <th></th>\n",
       "      <th></th>\n",
       "      <th>employees</th>\n",
       "      <th>salary</th>\n",
       "    </tr>\n",
       "    <tr>\n",
       "      <th>poi</th>\n",
       "      <th></th>\n",
       "      <th></th>\n",
       "      <th></th>\n",
       "    </tr>\n",
       "  </thead>\n",
       "  <tbody>\n",
       "    <tr>\n",
       "      <th>0</th>\n",
       "      <th>125</th>\n",
       "      <td>FREVERT MARK A</td>\n",
       "      <td>1060932</td>\n",
       "    </tr>\n",
       "    <tr>\n",
       "      <th>1</th>\n",
       "      <th>94</th>\n",
       "      <td>SKILLING JEFFREY K</td>\n",
       "      <td>1111258</td>\n",
       "    </tr>\n",
       "  </tbody>\n",
       "</table>\n",
       "</div>"
      ],
      "text/plain": [
       "                  employees   salary\n",
       "poi                                 \n",
       "0   125      FREVERT MARK A  1060932\n",
       "1   94   SKILLING JEFFREY K  1111258"
      ]
     },
     "execution_count": 61,
     "metadata": {},
     "output_type": "execute_result"
    }
   ],
   "source": [
    "df_new.groupby('poi').apply(top)[['employees','salary']]"
   ]
  },
  {
   "cell_type": "markdown",
   "metadata": {},
   "source": [
    "### Distribution of Bonus\n",
    "Similar to Salary, Bonus is also a numeric variable. Therefore, we use boxplot together with POI, a categorical variable on the x-axis. It is expected that POI's get higher bonus."
   ]
  },
  {
   "cell_type": "code",
   "execution_count": 62,
   "metadata": {},
   "outputs": [
    {
     "data": {
      "image/png": "[encoded data removed]",
      "text/plain": [
       "<Figure size 432x288 with 1 Axes>"
      ]
     },
     "metadata": {},
     "output_type": "display_data"
    }
   ],
   "source": [
    "ax_bonus=sns.boxplot(x=\"poi\",y=\"bonus\",data=df_new)\n",
    "ax_bonus.set_title(\"Distribution of Bonus Across Poi\")\n",
    "plt.show()"
   ]
  },
  {
   "cell_type": "markdown",
   "metadata": {},
   "source": [
    "As expected, the Bonus for POI's is significantly higher than non-POI's, with some outliers. One non-POI is earning a bonus close to 8 millions. That seems interesting, and requires some investigation."
   ]
  },
  {
   "cell_type": "code",
   "execution_count": 63,
   "metadata": {},
   "outputs": [],
   "source": [
    "def top(data,n=2,column='bonus'):\n",
    "    return data.sort_values(by=column)[-n:]"
   ]
  },
  {
   "cell_type": "code",
   "execution_count": 64,
   "metadata": {},
   "outputs": [
    {
     "data": {
      "text/html": [
       "<div>\n",
       "<style scoped>\n",
       "    .dataframe tbody tr th:only-of-type {\n",
       "        vertical-align: middle;\n",
       "    }\n",
       "\n",
       "    .dataframe tbody tr th {\n",
       "        vertical-align: top;\n",
       "    }\n",
       "\n",
       "    .dataframe thead th {\n",
       "        text-align: right;\n",
       "    }\n",
       "</style>\n",
       "<table border=\"1\" class=\"dataframe\">\n",
       "  <thead>\n",
       "    <tr style=\"text-align: right;\">\n",
       "      <th></th>\n",
       "      <th></th>\n",
       "      <th>employees</th>\n",
       "      <th>bonus</th>\n",
       "    </tr>\n",
       "    <tr>\n",
       "      <th>poi</th>\n",
       "      <th></th>\n",
       "      <th></th>\n",
       "      <th></th>\n",
       "    </tr>\n",
       "  </thead>\n",
       "  <tbody>\n",
       "    <tr>\n",
       "      <th rowspan=\"2\" valign=\"top\">0</th>\n",
       "      <th>105</th>\n",
       "      <td>ALLEN PHILLIP K</td>\n",
       "      <td>4175000</td>\n",
       "    </tr>\n",
       "    <tr>\n",
       "      <th>42</th>\n",
       "      <td>LAVORATO JOHN J</td>\n",
       "      <td>8000000</td>\n",
       "    </tr>\n",
       "    <tr>\n",
       "      <th rowspan=\"2\" valign=\"top\">1</th>\n",
       "      <th>94</th>\n",
       "      <td>SKILLING JEFFREY K</td>\n",
       "      <td>5600000</td>\n",
       "    </tr>\n",
       "    <tr>\n",
       "      <th>64</th>\n",
       "      <td>LAY KENNETH L</td>\n",
       "      <td>7000000</td>\n",
       "    </tr>\n",
       "  </tbody>\n",
       "</table>\n",
       "</div>"
      ],
      "text/plain": [
       "                  employees    bonus\n",
       "poi                                 \n",
       "0   105     ALLEN PHILLIP K  4175000\n",
       "    42      LAVORATO JOHN J  8000000\n",
       "1   94   SKILLING JEFFREY K  5600000\n",
       "    64        LAY KENNETH L  7000000"
      ]
     },
     "execution_count": 64,
     "metadata": {},
     "output_type": "execute_result"
    }
   ],
   "source": [
    "df_new.groupby('poi').apply(top)[['employees','bonus']]"
   ]
  },
  {
   "cell_type": "markdown",
   "metadata": {},
   "source": [
    "As per the New York Times article,https://www.nytimes.com/2002/06/18/business/officials-got-a-windfall-before-enron-s-collapse.html, many top level executives got huge bonuses/ gains just before collpase to prevent them from leaving the firm. That explains the above numbers."
   ]
  },
  {
   "cell_type": "markdown",
   "metadata": {},
   "source": [
    "### Long Term Incentive Pay\n",
    "As per the above NYT article, top level executives were also paid huge Long Term Incentives. Were they paid only to POI's? Let's look at the distribution of Long Term Incentives to answer this question.  "
   ]
  },
  {
   "cell_type": "code",
   "execution_count": 65,
   "metadata": {},
   "outputs": [
    {
     "data": {
      "image/png": "[encoded data removed]",
      "text/plain": [
       "<Figure size 432x288 with 1 Axes>"
      ]
     },
     "metadata": {},
     "output_type": "display_data"
    }
   ],
   "source": [
    "boxprops = dict(linestyle='-', linewidth=1)\n",
    "flierprops = dict(marker='o', markersize=8,markerfacecolor='red',\n",
    "                  linestyle='--')\n",
    "ax_incentive=sns.boxplot(x=\"poi\",y=df_new[\"long_term_incentive\"]/float(1000000),orient=\"v\",data=df_new,showmeans=True,\\\n",
    "                         palette=\"Set3\",boxprops=boxprops,flierprops=flierprops,width=0.3)\n",
    "#ticks=ax_incentive.set_xticks([0,1])\n",
    "labels=ax_incentive.set_xticklabels(['No','Yes'])\n",
    "ax_incentive.set_title(\"Distribution of Long Term Incentive Across Poi\",y=1.12,fontsize=20,fontweight='bold')\n",
    "ax_incentive.set_ylabel('Long Term Incentive\\n(in millions)')\n",
    "ax_incentive.set_xlabel('POI')\n",
    "plt.show()"
   ]
  },
  {
   "cell_type": "markdown",
   "metadata": {},
   "source": [
    "The box being asymmetrical depicts right skewness in both distributions, as expected. Moreover, the median incentive is higher for POI's. It will be interesting to identify the non-POI getting the highest long term incentive. \n"
   ]
  },
  {
   "cell_type": "code",
   "execution_count": 66,
   "metadata": {},
   "outputs": [
    {
     "data": {
      "text/plain": [
       "dtype('int64')"
      ]
     },
     "execution_count": 66,
     "metadata": {},
     "output_type": "execute_result"
    }
   ],
   "source": [
    "df_new['poi'].dtypes"
   ]
  },
  {
   "cell_type": "code",
   "execution_count": 67,
   "metadata": {},
   "outputs": [
    {
     "data": {
      "text/html": [
       "<div>\n",
       "<style scoped>\n",
       "    .dataframe tbody tr th:only-of-type {\n",
       "        vertical-align: middle;\n",
       "    }\n",
       "\n",
       "    .dataframe tbody tr th {\n",
       "        vertical-align: top;\n",
       "    }\n",
       "\n",
       "    .dataframe thead th {\n",
       "        text-align: right;\n",
       "    }\n",
       "</style>\n",
       "<table border=\"1\" class=\"dataframe\">\n",
       "  <thead>\n",
       "    <tr style=\"text-align: right;\">\n",
       "      <th></th>\n",
       "      <th>employees</th>\n",
       "      <th>long_term_incentive</th>\n",
       "    </tr>\n",
       "  </thead>\n",
       "  <tbody>\n",
       "    <tr>\n",
       "      <th>136</th>\n",
       "      <td>MARTIN AMANDA K</td>\n",
       "      <td>5145434</td>\n",
       "    </tr>\n",
       "  </tbody>\n",
       "</table>\n",
       "</div>"
      ],
      "text/plain": [
       "           employees  long_term_incentive\n",
       "136  MARTIN AMANDA K              5145434"
      ]
     },
     "execution_count": 67,
     "metadata": {},
     "output_type": "execute_result"
    }
   ],
   "source": [
    "non_poi = df_new[df_new['poi']==0]\n",
    "non_poi[non_poi['long_term_incentive']== max(non_poi['long_term_incentive'])][['employees','long_term_incentive']]\n"
   ]
  },
  {
   "cell_type": "markdown",
   "metadata": {},
   "source": [
    "### Deferred Income\n",
    "\n",
    "Deferred Income defines the income/revenue received for goods or services that are yet to be delivered. We intend to check whether POI's get higher Deferred Income. "
   ]
  },
  {
   "cell_type": "code",
   "execution_count": 68,
   "metadata": {},
   "outputs": [
    {
     "data": {
      "image/png": "[encoded data removed]",
      "text/plain": [
       "<Figure size 432x288 with 1 Axes>"
      ]
     },
     "metadata": {},
     "output_type": "display_data"
    }
   ],
   "source": [
    "ax_deferred = sns.violinplot(x=\"poi\", y=\"deferred_income\",data=df_new, palette=\"Set2\",scale=\"count\", inner=\"quartile\")\n",
    "ax_violin.set_title(\"Distribution of Deferred Income Across POI\")\n",
    "plt.show()"
   ]
  },
  {
   "cell_type": "markdown",
   "metadata": {},
   "source": [
    "### Expenses\n",
    "Expenses include reimbursement of business expenses. It is highly expected that POI's make lots of trips, hence are heavily reimbursed.\n"
   ]
  },
  {
   "cell_type": "code",
   "execution_count": 69,
   "metadata": {},
   "outputs": [
    {
     "data": {
      "image/png": "[encoded data removed]",
      "text/plain": [
       "<Figure size 432x288 with 1 Axes>"
      ]
     },
     "metadata": {},
     "output_type": "display_data"
    }
   ],
   "source": [
    "ax_expense = sns.violinplot(x=\"poi\", y=\"expenses\",data=df_new, palette=\"Set2\",scale=\"count\", inner=\"quartile\")\n",
    "ax_expense.set_title(\"Distribution of Expenses Across Poi\")\n",
    "plt.show()\n",
    "#plt.show()"
   ]
  },
  {
   "cell_type": "markdown",
   "metadata": {},
   "source": [
    "It is easy to notice that the POI's have significantly higher expenses as compared to their non-POI counterparts. At the same time, the distribution is right skewed for both classes. Since non-POI's have greater number of outliers, the right skewness is more significant as compared to their POI's counterparts. Some non-POI's have been reimbursed quite high expenses. Let's try to identify them."
   ]
  },
  {
   "cell_type": "code",
   "execution_count": 70,
   "metadata": {},
   "outputs": [
    {
     "data": {
      "text/html": [
       "<div>\n",
       "<style scoped>\n",
       "    .dataframe tbody tr th:only-of-type {\n",
       "        vertical-align: middle;\n",
       "    }\n",
       "\n",
       "    .dataframe tbody tr th {\n",
       "        vertical-align: top;\n",
       "    }\n",
       "\n",
       "    .dataframe thead th {\n",
       "        text-align: right;\n",
       "    }\n",
       "</style>\n",
       "<table border=\"1\" class=\"dataframe\">\n",
       "  <thead>\n",
       "    <tr style=\"text-align: right;\">\n",
       "      <th></th>\n",
       "      <th>employees</th>\n",
       "      <th>expenses</th>\n",
       "    </tr>\n",
       "  </thead>\n",
       "  <tbody>\n",
       "    <tr>\n",
       "      <th>110</th>\n",
       "      <td>MCCLELLAN GEORGE</td>\n",
       "      <td>228763</td>\n",
       "    </tr>\n",
       "  </tbody>\n",
       "</table>\n",
       "</div>"
      ],
      "text/plain": [
       "            employees  expenses\n",
       "110  MCCLELLAN GEORGE    228763"
      ]
     },
     "execution_count": 70,
     "metadata": {},
     "output_type": "execute_result"
    }
   ],
   "source": [
    "non_poi_expenses = df_new[df_new['poi']==0]\n",
    "non_poi_expenses[non_poi_expenses['expenses']== max(non_poi_expenses['expenses'])][['employees','expenses']]"
   ]
  },
  {
   "cell_type": "markdown",
   "metadata": {},
   "source": [
    "Since POI's have higher expenses than non-POI's, it is feasible to use expenses as a predictor for the classification model. "
   ]
  },
  {
   "cell_type": "markdown",
   "metadata": {},
   "source": [
    "### Distribution of Director Fees\n",
    "Director fees is the payment made to an employee for their services as a director. It is voluntary decision to accept it or not if a person is sole director, but in case of multiple directors it has to be a joint decision. https://www.brooksonone.co.uk/knowledge-centre/limited-company/company-tax/directors-fees/\n",
    "\n",
    "Now the question to answer is, are non-POI's also rendering services as a director.   "
   ]
  },
  {
   "cell_type": "code",
   "execution_count": 71,
   "metadata": {},
   "outputs": [
    {
     "data": {
      "text/plain": [
       "poi\n",
       "0    125034\n",
       "1         0\n",
       "Name: director_fees, dtype: int64"
      ]
     },
     "execution_count": 71,
     "metadata": {},
     "output_type": "execute_result"
    }
   ],
   "source": [
    "df_new.groupby('poi')['director_fees'].max()"
   ]
  },
  {
   "cell_type": "markdown",
   "metadata": {},
   "source": [
    "It seems that the POI's do not render serve their services as director. "
   ]
  },
  {
   "cell_type": "code",
   "execution_count": 72,
   "metadata": {},
   "outputs": [
    {
     "data": {
      "image/png": "[encoded data removed]",
      "text/plain": [
       "<Figure size 432x288 with 1 Axes>"
      ]
     },
     "metadata": {},
     "output_type": "display_data"
    }
   ],
   "source": [
    "ax_director = sns.violinplot(x=\"poi\", y=\"director_fees\",data=df_new, palette=\"Set2\",scale=\"count\", inner=\"quartile\")\n",
    "ax_director.set_title(\"Distribution of Director Fees Across Poi\")\n",
    "plt.show()\n",
    "#type(ax_director)"
   ]
  },
  {
   "cell_type": "markdown",
   "metadata": {},
   "source": [
    "The distribution for Director fees is right skewed. Moreover, since all POI's have 0 director fees, we can possibly use this feature as a possible predictor to discriminate between the two classes."
   ]
  },
  {
   "cell_type": "markdown",
   "metadata": {},
   "source": [
    "### Distributon of Total Payments\n",
    "As described, total payments describes the sum total of all payments/advances made to POI's as well as non-POI's.  "
   ]
  },
  {
   "cell_type": "code",
   "execution_count": 73,
   "metadata": {},
   "outputs": [
    {
     "data": {
      "image/png": "[encoded data removed]",
      "text/plain": [
       "<Figure size 432x288 with 1 Axes>"
      ]
     },
     "metadata": {},
     "output_type": "display_data"
    }
   ],
   "source": [
    "ax_total_payment=sns.boxplot(x=\"poi\",y=\"total_payments\",data=df_new)\n",
    "ax_total_payment.set_title(\"Distribution for Total Payment Across Poi\")\n",
    "plt.show()"
   ]
  },
  {
   "cell_type": "markdown",
   "metadata": {},
   "source": [
    "We don't see much variation here for POI's as well as non-POI's. There is only one remarkable point, which is certainly an outlier, for POI's."
   ]
  },
  {
   "cell_type": "code",
   "execution_count": 74,
   "metadata": {},
   "outputs": [
    {
     "data": {
      "text/html": [
       "<div>\n",
       "<style scoped>\n",
       "    .dataframe tbody tr th:only-of-type {\n",
       "        vertical-align: middle;\n",
       "    }\n",
       "\n",
       "    .dataframe tbody tr th {\n",
       "        vertical-align: top;\n",
       "    }\n",
       "\n",
       "    .dataframe thead th {\n",
       "        text-align: right;\n",
       "    }\n",
       "</style>\n",
       "<table border=\"1\" class=\"dataframe\">\n",
       "  <thead>\n",
       "    <tr style=\"text-align: right;\">\n",
       "      <th></th>\n",
       "      <th>employees</th>\n",
       "      <th>total_payments</th>\n",
       "    </tr>\n",
       "  </thead>\n",
       "  <tbody>\n",
       "    <tr>\n",
       "      <th>64</th>\n",
       "      <td>LAY KENNETH L</td>\n",
       "      <td>103559793</td>\n",
       "    </tr>\n",
       "  </tbody>\n",
       "</table>\n",
       "</div>"
      ],
      "text/plain": [
       "        employees  total_payments\n",
       "64  LAY KENNETH L       103559793"
      ]
     },
     "execution_count": 74,
     "metadata": {},
     "output_type": "execute_result"
    }
   ],
   "source": [
    "poi_total=df_new[df_new['poi']==1]\n",
    "poi_total[poi_total['total_payments']== max(poi_total['total_payments'])][['employees','total_payments']]"
   ]
  },
  {
   "cell_type": "markdown",
   "metadata": {},
   "source": [
    "Not so surprisinlgy, highest amount of payments has been made to Kenneth Lay, the founder of Enron."
   ]
  },
  {
   "cell_type": "markdown",
   "metadata": {},
   "source": [
    "Therefore, after studying the effects of relation between payment variables and whether a person is a POI or not, we decide to include following payment related variables in our clasification model;\n",
    "\n",
    "* Expenses,\n",
    "* Director Fees,\n",
    "* Long Term Incentive,\n",
    "* Bonus, and \n",
    "* Salary.\n",
    "\n",
    "## Stock Related Features\n",
    "\n",
    "\n",
    "\n",
    " \n"
   ]
  },
  {
   "cell_type": "markdown",
   "metadata": {},
   "source": [
    "### Distribution of Exercised Stock Options\n",
    "It is highly likely that POI's are granted lower options for stock price as compared to regular stock prices. Therefore, is it possible that POI's are earning significantly more than non-POI's.  "
   ]
  },
  {
   "cell_type": "code",
   "execution_count": 75,
   "metadata": {},
   "outputs": [
    {
     "data": {
      "image/png": "[encoded data removed]",
      "text/plain": [
       "<Figure size 432x288 with 1 Axes>"
      ]
     },
     "metadata": {},
     "output_type": "display_data"
    }
   ],
   "source": [
    "ax_exercised=sns.boxplot(x=\"poi\",y=\"exercised_stock_options\",data=df_new,showmeans=True)\n",
    "ax_exercised.set_title(\"Earnings from Exercised Stock Options\")\n",
    "plt.show()"
   ]
  },
  {
   "cell_type": "markdown",
   "metadata": {},
   "source": [
    "As expected, the POI's have earned significantly higher income by exercising stock options at the right time. But the disribution for POI's is highly right skewed. On the other hand, distribution for non-POI's is roughly normal. Actually the mean is slightly higher than median for non-POI cases. Let's check the stats."
   ]
  },
  {
   "cell_type": "code",
   "execution_count": 76,
   "metadata": {},
   "outputs": [
    {
     "data": {
      "text/plain": [
       "count    1.240000e+02\n",
       "mean     1.501601e+06\n",
       "std      2.645852e+06\n",
       "min      0.000000e+00\n",
       "25%      0.000000e+00\n",
       "50%      6.046375e+05\n",
       "75%      1.627556e+06\n",
       "max      1.545629e+07\n",
       "Name: exercised_stock_options, dtype: float64"
      ]
     },
     "execution_count": 76,
     "metadata": {},
     "output_type": "execute_result"
    }
   ],
   "source": [
    "df_new[df_new['poi']==0]['exercised_stock_options'].describe()"
   ]
  },
  {
   "cell_type": "markdown",
   "metadata": {},
   "source": [
    "As a side blurb, it will be interesting to check the outliers for POI's in terms of amount of exercised_stock_options. Most likely, it can be Kenneth Lay, the founder and CEO of Enron."
   ]
  },
  {
   "cell_type": "code",
   "execution_count": 84,
   "metadata": {},
   "outputs": [
    {
     "data": {
      "text/html": [
       "<div>\n",
       "<style scoped>\n",
       "    .dataframe tbody tr th:only-of-type {\n",
       "        vertical-align: middle;\n",
       "    }\n",
       "\n",
       "    .dataframe tbody tr th {\n",
       "        vertical-align: top;\n",
       "    }\n",
       "\n",
       "    .dataframe thead th {\n",
       "        text-align: right;\n",
       "    }\n",
       "</style>\n",
       "<table border=\"1\" class=\"dataframe\">\n",
       "  <thead>\n",
       "    <tr style=\"text-align: right;\">\n",
       "      <th></th>\n",
       "      <th>employees</th>\n",
       "      <th>exercised_stock_options</th>\n",
       "    </tr>\n",
       "  </thead>\n",
       "  <tbody>\n",
       "    <tr>\n",
       "      <th>64</th>\n",
       "      <td>LAY KENNETH L</td>\n",
       "      <td>34348384</td>\n",
       "    </tr>\n",
       "  </tbody>\n",
       "</table>\n",
       "</div>"
      ],
      "text/plain": [
       "        employees  exercised_stock_options\n",
       "64  LAY KENNETH L                 34348384"
      ]
     },
     "execution_count": 84,
     "metadata": {},
     "output_type": "execute_result"
    }
   ],
   "source": [
    "poi_exercised_stock = df_new[df_new['poi']==1]\n",
    "poi_exercised_stock[poi_exercised_stock['exercised_stock_options']==max(poi_exercised_stock['exercised_stock_options'])][['employees',\n",
    "                                       'exercised_stock_options']]"
   ]
  },
  {
   "cell_type": "markdown",
   "metadata": {},
   "source": [
    "As expected, highest revenue earned by exercising stock options belongs to Kenneth Lay. Let's look for top 3 executives who earned the highest  income exercising their stock options."
   ]
  },
  {
   "cell_type": "code",
   "execution_count": 86,
   "metadata": {},
   "outputs": [
    {
     "data": {
      "text/html": [
       "<div>\n",
       "<style scoped>\n",
       "    .dataframe tbody tr th:only-of-type {\n",
       "        vertical-align: middle;\n",
       "    }\n",
       "\n",
       "    .dataframe tbody tr th {\n",
       "        vertical-align: top;\n",
       "    }\n",
       "\n",
       "    .dataframe thead th {\n",
       "        text-align: right;\n",
       "    }\n",
       "</style>\n",
       "<table border=\"1\" class=\"dataframe\">\n",
       "  <thead>\n",
       "    <tr style=\"text-align: right;\">\n",
       "      <th></th>\n",
       "      <th>employees</th>\n",
       "      <th>exercised_stock_options</th>\n",
       "    </tr>\n",
       "  </thead>\n",
       "  <tbody>\n",
       "    <tr>\n",
       "      <th>64</th>\n",
       "      <td>LAY KENNETH L</td>\n",
       "      <td>34348384</td>\n",
       "    </tr>\n",
       "    <tr>\n",
       "      <th>122</th>\n",
       "      <td>HIRKO JOSEPH</td>\n",
       "      <td>30766064</td>\n",
       "    </tr>\n",
       "    <tr>\n",
       "      <th>88</th>\n",
       "      <td>RICE KENNETH D</td>\n",
       "      <td>19794175</td>\n",
       "    </tr>\n",
       "  </tbody>\n",
       "</table>\n",
       "</div>"
      ],
      "text/plain": [
       "          employees  exercised_stock_options\n",
       "64    LAY KENNETH L                 34348384\n",
       "122    HIRKO JOSEPH                 30766064\n",
       "88   RICE KENNETH D                 19794175"
      ]
     },
     "execution_count": 86,
     "metadata": {},
     "output_type": "execute_result"
    }
   ],
   "source": [
    "poi_exercised_stock.nlargest(3,'exercised_stock_options')[['employees','exercised_stock_options']]"
   ]
  },
  {
   "cell_type": "markdown",
   "metadata": {},
   "source": [
    "It is interesing to see that Joe Hirko and Kenneth Rice served as Co-CEO for Enron Broadband services until Joe Hirko left Enron in mid 2000.  \n",
    "\n",
    "### Distribution of Restricted Stock\n",
    "Restricted Stock is an award of company stock to employees but it can't be transferred or sold until few conditions are met. Some of these conditions include meeting certain performance goals or continued service to the company. The question we need to answer is, do the POI's receive larger share of restricted stock. "
   ]
  },
  {
   "cell_type": "code",
   "execution_count": 87,
   "metadata": {},
   "outputs": [
    {
     "data": {
      "image/png": "[encoded data removed]",
      "text/plain": [
       "<Figure size 432x288 with 1 Axes>"
      ]
     },
     "metadata": {},
     "output_type": "display_data"
    }
   ],
   "source": [
    "ax_restricted=sns.boxplot(x=\"poi\",y=\"restricted_stock\",data=df_new,showmeans=True)\n",
    "ax_restricted.set_title(\"Distribution of Restricted Stock Across POI's\")\n",
    "plt.show()"
   ]
  },
  {
   "cell_type": "markdown",
   "metadata": {},
   "source": [
    "Here are few observations from above boxplot; restricted stock is skewed in both classes, on an average restricted stock for POI's is much higher than non-POI's, and few outliers can be seen in both classes. It will be interesting to identify those outliers."
   ]
  },
  {
   "cell_type": "code",
   "execution_count": 88,
   "metadata": {},
   "outputs": [
    {
     "data": {
      "text/html": [
       "<div>\n",
       "<style scoped>\n",
       "    .dataframe tbody tr th:only-of-type {\n",
       "        vertical-align: middle;\n",
       "    }\n",
       "\n",
       "    .dataframe tbody tr th {\n",
       "        vertical-align: top;\n",
       "    }\n",
       "\n",
       "    .dataframe thead th {\n",
       "        text-align: right;\n",
       "    }\n",
       "</style>\n",
       "<table border=\"1\" class=\"dataframe\">\n",
       "  <thead>\n",
       "    <tr style=\"text-align: right;\">\n",
       "      <th></th>\n",
       "      <th>poi</th>\n",
       "      <th>restricted_stock</th>\n",
       "      <th>employees</th>\n",
       "    </tr>\n",
       "  </thead>\n",
       "  <tbody>\n",
       "    <tr>\n",
       "      <th>0</th>\n",
       "      <td>1</td>\n",
       "      <td>14761694</td>\n",
       "      <td>LAY KENNETH L</td>\n",
       "    </tr>\n",
       "    <tr>\n",
       "      <th>1</th>\n",
       "      <td>0</td>\n",
       "      <td>13847074</td>\n",
       "      <td>WHITE JR THOMAS E</td>\n",
       "    </tr>\n",
       "    <tr>\n",
       "      <th>2</th>\n",
       "      <td>0</td>\n",
       "      <td>8453763</td>\n",
       "      <td>PAI LOU L</td>\n",
       "    </tr>\n",
       "    <tr>\n",
       "      <th>3</th>\n",
       "      <td>1</td>\n",
       "      <td>6843672</td>\n",
       "      <td>SKILLING JEFFREY K</td>\n",
       "    </tr>\n",
       "  </tbody>\n",
       "</table>\n",
       "</div>"
      ],
      "text/plain": [
       "   poi  restricted_stock           employees\n",
       "0    1          14761694       LAY KENNETH L\n",
       "1    0          13847074   WHITE JR THOMAS E\n",
       "2    0           8453763           PAI LOU L\n",
       "3    1           6843672  SKILLING JEFFREY K"
      ]
     },
     "execution_count": 88,
     "metadata": {},
     "output_type": "execute_result"
    }
   ],
   "source": [
    "df_new.sort_values('restricted_stock',ascending=False).groupby('poi',sort=True).head(2).reset_index(drop=True)[['poi','restricted_stock','employees']]"
   ]
  },
  {
   "cell_type": "markdown",
   "metadata": {},
   "source": [
    "Among the POI's, Kenneth L and Jeffrey Skilling have earned the most in restricted stock, whereas in the non-POI's,Thomas White  Jr and Pai Lou earned the most. Pai Lou was a former Enron Executive, whereas Thomas White Jr served as the Vice Chairman of Enron Energy Services.   "
   ]
  },
  {
   "cell_type": "markdown",
   "metadata": {},
   "source": [
    "### Distribution of Restricted Stock Deferred\n",
    "Restricted Stock Deferred reflects value of restricted stock which was deferred voluntarily under some predefined compensation arrangement. Let's check the distribution of deferred restricted stock for POI's as well as non-POI's."
   ]
  },
  {
   "cell_type": "code",
   "execution_count": 89,
   "metadata": {},
   "outputs": [
    {
     "data": {
      "image/png": "[encoded data removed]",
      "text/plain": [
       "<Figure size 432x288 with 1 Axes>"
      ]
     },
     "metadata": {},
     "output_type": "display_data"
    }
   ],
   "source": [
    "axes_restricted_deferred=sns.boxplot(x=\"poi\",y=\"restricted_stock_deferred\",data=df_new,showmeans=True)\n",
    "axes_restricted_deferred.set_title(\"Distribution of Restricted Deferred Stock\")\n",
    "plt.show()"
   ]
  },
  {
   "cell_type": "code",
   "execution_count": 90,
   "metadata": {},
   "outputs": [
    {
     "data": {
      "text/plain": [
       "count    18.0\n",
       "mean      0.0\n",
       "std       0.0\n",
       "min       0.0\n",
       "25%       0.0\n",
       "50%       0.0\n",
       "75%       0.0\n",
       "max       0.0\n",
       "Name: restricted_stock_deferred, dtype: float64"
      ]
     },
     "execution_count": 90,
     "metadata": {},
     "output_type": "execute_result"
    }
   ],
   "source": [
    "df_new[df_new['poi']==1]['restricted_stock_deferred'].describe()"
   ]
  },
  {
   "cell_type": "markdown",
   "metadata": {},
   "source": [
    "For non-poi's, the restricted deferred stock  takes negative values, as seen in the boxplot. On the other hand, for poi's the value is identically zero. "
   ]
  },
  {
   "cell_type": "markdown",
   "metadata": {},
   "source": [
    "### Distribution of Total Stock Value\n",
    "Next, we study distribution for total stock value across POI as well as non-POI's. It is expected that persons of influence will have higher stock value as compared to their non-POI counterparts. "
   ]
  },
  {
   "cell_type": "code",
   "execution_count": 91,
   "metadata": {},
   "outputs": [
    {
     "data": {
      "image/png": "[encoded data removed]",
      "text/plain": [
       "<Figure size 432x288 with 1 Axes>"
      ]
     },
     "metadata": {},
     "output_type": "display_data"
    }
   ],
   "source": [
    "ax_total_stock = sns.violinplot(x=\"poi\", y=\"total_stock_value\",data=df_new, palette=\"Set2\",scale=\"count\", inner=\"quartile\")\n",
    "ax_total_stock.set_title(\"Distribution of Total Stock Value Across Poi\",y=1.12)\n",
    "plt.show()"
   ]
  },
  {
   "cell_type": "markdown",
   "metadata": {},
   "source": [
    "As expected, POI's do have higher stock values at Enron. It will be worthwhile identifying the outliers in both groups, who caused heavy right skewness. "
   ]
  },
  {
   "cell_type": "code",
   "execution_count": 92,
   "metadata": {},
   "outputs": [
    {
     "data": {
      "text/html": [
       "<div>\n",
       "<style scoped>\n",
       "    .dataframe tbody tr th:only-of-type {\n",
       "        vertical-align: middle;\n",
       "    }\n",
       "\n",
       "    .dataframe tbody tr th {\n",
       "        vertical-align: top;\n",
       "    }\n",
       "\n",
       "    .dataframe thead th {\n",
       "        text-align: right;\n",
       "    }\n",
       "</style>\n",
       "<table border=\"1\" class=\"dataframe\">\n",
       "  <thead>\n",
       "    <tr style=\"text-align: right;\">\n",
       "      <th></th>\n",
       "      <th>employees</th>\n",
       "      <th>poi</th>\n",
       "      <th>total_stock_value</th>\n",
       "    </tr>\n",
       "  </thead>\n",
       "  <tbody>\n",
       "    <tr>\n",
       "      <th>0</th>\n",
       "      <td>LAY KENNETH L</td>\n",
       "      <td>1</td>\n",
       "      <td>49110078</td>\n",
       "    </tr>\n",
       "    <tr>\n",
       "      <th>1</th>\n",
       "      <td>HIRKO JOSEPH</td>\n",
       "      <td>1</td>\n",
       "      <td>30766064</td>\n",
       "    </tr>\n",
       "    <tr>\n",
       "      <th>2</th>\n",
       "      <td>SKILLING JEFFREY K</td>\n",
       "      <td>1</td>\n",
       "      <td>26093672</td>\n",
       "    </tr>\n",
       "    <tr>\n",
       "      <th>3</th>\n",
       "      <td>PAI LOU L</td>\n",
       "      <td>0</td>\n",
       "      <td>23817930</td>\n",
       "    </tr>\n",
       "    <tr>\n",
       "      <th>4</th>\n",
       "      <td>BHATNAGAR SANJAY</td>\n",
       "      <td>0</td>\n",
       "      <td>15456290</td>\n",
       "    </tr>\n",
       "    <tr>\n",
       "      <th>5</th>\n",
       "      <td>WHITE JR THOMAS E</td>\n",
       "      <td>0</td>\n",
       "      <td>15144123</td>\n",
       "    </tr>\n",
       "  </tbody>\n",
       "</table>\n",
       "</div>"
      ],
      "text/plain": [
       "            employees  poi  total_stock_value\n",
       "0       LAY KENNETH L    1           49110078\n",
       "1        HIRKO JOSEPH    1           30766064\n",
       "2  SKILLING JEFFREY K    1           26093672\n",
       "3           PAI LOU L    0           23817930\n",
       "4    BHATNAGAR SANJAY    0           15456290\n",
       "5   WHITE JR THOMAS E    0           15144123"
      ]
     },
     "execution_count": 92,
     "metadata": {},
     "output_type": "execute_result"
    }
   ],
   "source": [
    "df_new.sort_values('total_stock_value',ascending=False).groupby('poi',sort=True).head(3).reset_index(drop=True)[['employees','poi','total_stock_value']]"
   ]
  },
  {
   "cell_type": "markdown",
   "metadata": {},
   "source": [
    "## Interaction with Other Users\n",
    "Earlier we explored the effects of payments as well as stock variables on whether an entity is POI or not. Next, we use the features related to e-mail correspondence such as number of email messages, number of messages from POI, number of messages to POI, etc. \n",
    "\n",
    "### Distribution of Number of Messages Sent\n",
    "Is it true that poi's send significantly larger number of messages? We use boxplot to observe the distribution of number of email messages w.r.t. POI's."
   ]
  },
  {
   "cell_type": "code",
   "execution_count": 93,
   "metadata": {},
   "outputs": [
    {
     "data": {
      "image/png": "[encoded data removed]",
      "text/plain": [
       "<Figure size 432x288 with 1 Axes>"
      ]
     },
     "metadata": {},
     "output_type": "display_data"
    }
   ],
   "source": [
    "axes_from_messages=sns.boxplot(x='poi',y='from_messages',data=df_new,showmeans=True)\n",
    "axes_from_messages.set_title('Distribution of Number of Sent Messages')\n",
    "plt.show()"
   ]
  },
  {
   "cell_type": "markdown",
   "metadata": {},
   "source": [
    "Using the boxplot above, we do not observe much discrimination in two classes. Significant number of outliers are observed in both classes. Next, we explore the distribution of the variables, to_messages.\n",
    "\n",
    "### Distribution of Number of Messages Received\n",
    "Are the POI's receiving more messages? It is possible that senior executives, and other people who have influence receive large number of emails. "
   ]
  },
  {
   "cell_type": "code",
   "execution_count": 94,
   "metadata": {},
   "outputs": [
    {
     "data": {
      "image/png": "[encoded data removed]",
      "text/plain": [
       "<Figure size 432x288 with 1 Axes>"
      ]
     },
     "metadata": {},
     "output_type": "display_data"
    }
   ],
   "source": [
    "axes_to_messages=sns.boxplot(x='poi',y='to_messages',data=df_new,showmeans=True)\n",
    "axes_to_messages.set_title('Distribution of Number of Received Messages')\n",
    "plt.show()"
   ]
  },
  {
   "cell_type": "markdown",
   "metadata": {},
   "source": [
    "So, answer is yes! Except few outliers, the POI's receive significantly larger number of emails as compared to their non-POI counterparts. Moreover, right skewness is observed for non-POI's, but for POI's we have a normal distribution. As a side blurb, we identify the outliers in case of non-POI's."
   ]
  },
  {
   "cell_type": "code",
   "execution_count": 95,
   "metadata": {},
   "outputs": [
    {
     "data": {
      "text/html": [
       "<div>\n",
       "<style scoped>\n",
       "    .dataframe tbody tr th:only-of-type {\n",
       "        vertical-align: middle;\n",
       "    }\n",
       "\n",
       "    .dataframe tbody tr th {\n",
       "        vertical-align: top;\n",
       "    }\n",
       "\n",
       "    .dataframe thead th {\n",
       "        text-align: right;\n",
       "    }\n",
       "</style>\n",
       "<table border=\"1\" class=\"dataframe\">\n",
       "  <thead>\n",
       "    <tr style=\"text-align: right;\">\n",
       "      <th></th>\n",
       "      <th>employees</th>\n",
       "      <th>to_messages</th>\n",
       "    </tr>\n",
       "  </thead>\n",
       "  <tbody>\n",
       "    <tr>\n",
       "      <th>50</th>\n",
       "      <td>SHAPIRO RICHARD S</td>\n",
       "      <td>15149</td>\n",
       "    </tr>\n",
       "    <tr>\n",
       "      <th>100</th>\n",
       "      <td>KEAN STEVEN J</td>\n",
       "      <td>12754</td>\n",
       "    </tr>\n",
       "    <tr>\n",
       "      <th>23</th>\n",
       "      <td>KITCHEN LOUISE</td>\n",
       "      <td>8305</td>\n",
       "    </tr>\n",
       "  </tbody>\n",
       "</table>\n",
       "</div>"
      ],
      "text/plain": [
       "             employees  to_messages\n",
       "50   SHAPIRO RICHARD S        15149\n",
       "100      KEAN STEVEN J        12754\n",
       "23      KITCHEN LOUISE         8305"
      ]
     },
     "execution_count": 95,
     "metadata": {},
     "output_type": "execute_result"
    }
   ],
   "source": [
    "df_new[df_new['poi']==0].nlargest(3,'to_messages')[['employees','to_messages']]"
   ]
  },
  {
   "cell_type": "markdown",
   "metadata": {},
   "source": [
    "On a side note, is it true that POI's receive much more emails than they send. Let's look at the scatter plot, showing the discrimination between classes. "
   ]
  },
  {
   "cell_type": "code",
   "execution_count": 96,
   "metadata": {},
   "outputs": [
    {
     "data": {
      "image/png": "[encoded data removed]",
      "text/plain": [
       "<Figure size 432x288 with 1 Axes>"
      ]
     },
     "metadata": {},
     "output_type": "display_data"
    }
   ],
   "source": [
    "axes_email_sent_received = sns.scatterplot(x='to_messages',y='from_messages',hue='poi',data=df_new)\n",
    "#(axes_email_sent_received.axes.flatten())[0].set_title('Interaction Between Emails Received and Sent for Poi vs. Non-Poi')\n",
    "axes_email_sent_received.set_title('Interaction Between Emails Received and Sent for Poi vs. Non-Poi',y=1.05)\n",
    "plt.show()"
   ]
  },
  {
   "cell_type": "markdown",
   "metadata": {},
   "source": [
    "For POI's, we observe some sort of pattern. As expected, POI's do receive much more messages than they respond to. But the non-POI's have their numbers all over the graph.\n",
    "In the Feature Engineering section, we define a new variable, ratio of number of messages received to number of messages sent. Question is, can this new variable be a decisive factor in discriminating two classes. Once the new variable is calculated, we use box plot to study its distribution for both classes."
   ]
  },
  {
   "cell_type": "markdown",
   "metadata": {},
   "source": [
    "### Distribution of Number of Messages from POI\n",
    "It is highly likely that if an entity is a POI, then he/she will receive more messages from POI as compared to their non-POI counterparts. Similar to above approaches, we look at the boxplot."
   ]
  },
  {
   "cell_type": "code",
   "execution_count": 97,
   "metadata": {},
   "outputs": [
    {
     "data": {
      "image/png": "[encoded data removed]",
      "text/plain": [
       "<Figure size 432x288 with 1 Axes>"
      ]
     },
     "metadata": {},
     "output_type": "display_data"
    }
   ],
   "source": [
    "axes_poi_to_this_person = sns.boxplot(x=\"poi\",y=\"from_poi_to_this_person\",data=df_new,showmeans=True)\n",
    "axes_poi_to_this_person.set_title(\"Distribution of Emails Received from POI\")\n",
    "plt.show()"
   ]
  },
  {
   "cell_type": "markdown",
   "metadata": {},
   "source": [
    "As expected, the POI's receive more messages from other POI's as compared to non-POI's. But we see significant number of outliers in case of non-POI's. Interestingly, there are few non-POI's who seem to be popular among POI's. Let us identify few of those entities.  "
   ]
  },
  {
   "cell_type": "code",
   "execution_count": 98,
   "metadata": {},
   "outputs": [
    {
     "data": {
      "text/html": [
       "<div>\n",
       "<style scoped>\n",
       "    .dataframe tbody tr th:only-of-type {\n",
       "        vertical-align: middle;\n",
       "    }\n",
       "\n",
       "    .dataframe tbody tr th {\n",
       "        vertical-align: top;\n",
       "    }\n",
       "\n",
       "    .dataframe thead th {\n",
       "        text-align: right;\n",
       "    }\n",
       "</style>\n",
       "<table border=\"1\" class=\"dataframe\">\n",
       "  <thead>\n",
       "    <tr style=\"text-align: right;\">\n",
       "      <th></th>\n",
       "      <th>employees</th>\n",
       "      <th>from_poi_to_this_person</th>\n",
       "    </tr>\n",
       "  </thead>\n",
       "  <tbody>\n",
       "    <tr>\n",
       "      <th>42</th>\n",
       "      <td>LAVORATO JOHN J</td>\n",
       "      <td>528</td>\n",
       "    </tr>\n",
       "    <tr>\n",
       "      <th>123</th>\n",
       "      <td>DIETRICH JANET R</td>\n",
       "      <td>305</td>\n",
       "    </tr>\n",
       "    <tr>\n",
       "      <th>23</th>\n",
       "      <td>KITCHEN LOUISE</td>\n",
       "      <td>251</td>\n",
       "    </tr>\n",
       "    <tr>\n",
       "      <th>125</th>\n",
       "      <td>FREVERT MARK A</td>\n",
       "      <td>242</td>\n",
       "    </tr>\n",
       "    <tr>\n",
       "      <th>79</th>\n",
       "      <td>REDMOND BRIAN L</td>\n",
       "      <td>204</td>\n",
       "    </tr>\n",
       "  </tbody>\n",
       "</table>\n",
       "</div>"
      ],
      "text/plain": [
       "            employees  from_poi_to_this_person\n",
       "42    LAVORATO JOHN J                      528\n",
       "123  DIETRICH JANET R                      305\n",
       "23     KITCHEN LOUISE                      251\n",
       "125    FREVERT MARK A                      242\n",
       "79    REDMOND BRIAN L                      204"
      ]
     },
     "execution_count": 98,
     "metadata": {},
     "output_type": "execute_result"
    }
   ],
   "source": [
    "df_new[df_new['poi']==0].nlargest(5,'from_poi_to_this_person')[['employees','from_poi_to_this_person']]"
   ]
  },
  {
   "cell_type": "markdown",
   "metadata": {},
   "source": [
    "John Lavorato as the news says, was a former high ranking North American Enron Executive. It seems, though he was not a POI, he was in constant touch or contact with other POI's at Enron. Another non-POI, Janet Dietrich worked as the Chief Operating Officer for Enron Energy Services in the period 2000-2002.  \n",
    "\n",
    "### Distribution of Number of Messages to POI\n",
    "Is it necessary that a POI sends most of his messages to other POI? Or can non-POI's also send significant number of messages to other POI's.\n",
    "\n",
    "\n"
   ]
  },
  {
   "cell_type": "code",
   "execution_count": 99,
   "metadata": {},
   "outputs": [
    {
     "data": {
      "image/png": "[encoded data removed]",
      "text/plain": [
       "<Figure size 432x288 with 1 Axes>"
      ]
     },
     "metadata": {},
     "output_type": "display_data"
    }
   ],
   "source": [
    "axes_messages_to_poi=sns.boxplot(x='poi',y='from_this_person_to_poi',data=df_new,showmeans=True)\n",
    "axes_messages_to_poi.set_title('Distribution of Number of Messages to POI')\n",
    "plt.show()"
   ]
  },
  {
   "cell_type": "markdown",
   "metadata": {},
   "source": [
    "Except few outliers, we can't be confident that a POI sends significantly larger number of messages to POI as compared to non-POI's. It might not be suitable to use this variable as a possible predictor for the classification model.\n",
    "\n",
    "### Distribution of Number of Messages Shared with POI\n",
    "It is highly likely that a POI will share significantly larger number of messages with POI, as compared to non-POI's."
   ]
  },
  {
   "cell_type": "code",
   "execution_count": 100,
   "metadata": {},
   "outputs": [
    {
     "data": {
      "image/png": "[encoded data removed]",
      "text/plain": [
       "<Figure size 432x288 with 1 Axes>"
      ]
     },
     "metadata": {},
     "output_type": "display_data"
    }
   ],
   "source": [
    "axes_shared_with_poi=sns.boxplot(x='poi',y='shared_receipt_with_poi',data=df_new,showmeans=True)\n",
    "axes_shared_with_poi.set_title('Distribution of Number of Messages Shared with POI')\n",
    "plt.show()"
   ]
  },
  {
   "cell_type": "markdown",
   "metadata": {},
   "source": [
    "Our intuition make sense, the POI's on an average do share lots of emails with POI's. Moreover, the distribution is roughly normal for POI's. Except one outlier, the ditribution is almost symmetrical.\n",
    "On the other hand, for non-POI's, significant number of outliers lead to right skewness of the distribution. It will be interesting to identify those outliers for case of POI's as well as non-POI's."
   ]
  },
  {
   "cell_type": "code",
   "execution_count": 101,
   "metadata": {},
   "outputs": [
    {
     "data": {
      "text/html": [
       "<div>\n",
       "<style scoped>\n",
       "    .dataframe tbody tr th:only-of-type {\n",
       "        vertical-align: middle;\n",
       "    }\n",
       "\n",
       "    .dataframe tbody tr th {\n",
       "        vertical-align: top;\n",
       "    }\n",
       "\n",
       "    .dataframe thead th {\n",
       "        text-align: right;\n",
       "    }\n",
       "</style>\n",
       "<table border=\"1\" class=\"dataframe\">\n",
       "  <thead>\n",
       "    <tr style=\"text-align: right;\">\n",
       "      <th></th>\n",
       "      <th>employees</th>\n",
       "      <th>shared_receipt_with_poi</th>\n",
       "    </tr>\n",
       "  </thead>\n",
       "  <tbody>\n",
       "    <tr>\n",
       "      <th>0</th>\n",
       "      <td>SHAPIRO RICHARD S</td>\n",
       "      <td>4527</td>\n",
       "    </tr>\n",
       "    <tr>\n",
       "      <th>1</th>\n",
       "      <td>LAVORATO JOHN J</td>\n",
       "      <td>3962</td>\n",
       "    </tr>\n",
       "  </tbody>\n",
       "</table>\n",
       "</div>"
      ],
      "text/plain": [
       "           employees  shared_receipt_with_poi\n",
       "0  SHAPIRO RICHARD S                     4527\n",
       "1    LAVORATO JOHN J                     3962"
      ]
     },
     "execution_count": 101,
     "metadata": {},
     "output_type": "execute_result"
    }
   ],
   "source": [
    "df_new[df_new['poi']==0].nlargest(2,'shared_receipt_with_poi').reset_index(drop=True)[['employees','shared_receipt_with_poi']]"
   ]
  },
  {
   "cell_type": "markdown",
   "metadata": {},
   "source": [
    "We observed earlier that John Lavorato did receive lots of messages from POI's. Hence it is not surprising that he shared several emails with POI's. Another eminent personality, Richard Shapiro served as Enron's outreach to Democrats during the 2000 presidential race; (https://www.nytimes.com/2002/02/18/us/enron-pursued-plan-to-forge-close-ties-to-gore-campaign.html). That explains why Richard shared so many messages with other POI's.  Next, we identify the outlier for POI's."
   ]
  },
  {
   "cell_type": "code",
   "execution_count": 102,
   "metadata": {},
   "outputs": [
    {
     "data": {
      "text/html": [
       "<div>\n",
       "<style scoped>\n",
       "    .dataframe tbody tr th:only-of-type {\n",
       "        vertical-align: middle;\n",
       "    }\n",
       "\n",
       "    .dataframe tbody tr th {\n",
       "        vertical-align: top;\n",
       "    }\n",
       "\n",
       "    .dataframe thead th {\n",
       "        text-align: right;\n",
       "    }\n",
       "</style>\n",
       "<table border=\"1\" class=\"dataframe\">\n",
       "  <thead>\n",
       "    <tr style=\"text-align: right;\">\n",
       "      <th></th>\n",
       "      <th>employees</th>\n",
       "      <th>shared_receipt_with_poi</th>\n",
       "    </tr>\n",
       "  </thead>\n",
       "  <tbody>\n",
       "    <tr>\n",
       "      <th>0</th>\n",
       "      <td>BELDEN TIMOTHY N</td>\n",
       "      <td>5521</td>\n",
       "    </tr>\n",
       "  </tbody>\n",
       "</table>\n",
       "</div>"
      ],
      "text/plain": [
       "          employees  shared_receipt_with_poi\n",
       "0  BELDEN TIMOTHY N                     5521"
      ]
     },
     "execution_count": 102,
     "metadata": {},
     "output_type": "execute_result"
    }
   ],
   "source": [
    "df_new[df_new['poi']==1].nlargest(1,'shared_receipt_with_poi').reset_index(drop=True)[['employees','shared_receipt_with_poi']]"
   ]
  },
  {
   "cell_type": "markdown",
   "metadata": {},
   "source": [
    "Timothy Belden was the head of trading in Enron Energy Services. He was responsible for California's energy crisis and got a huge bonus of 5 million dollars for the profits he extracted for Enron from California's crisis.\n",
    "\n",
    "### Feasible Predictors\n",
    "Using above EDA results, following variable seem to be suitable for our classification model;\n",
    "* Salary,\n",
    "* Bonus,\n",
    "* Long Term Incentive,\n",
    "* Director Fees,\n",
    "* Expenses,\n",
    "* Exercised Stock Options,\n",
    "* Restricted Stock,\n",
    "* Total Stock Value,\n",
    "* Number of Messages Received,\n",
    "* Number of Messages Received from POI, and \n",
    "* Number of Messages Shared with POI.\n",
    "\n",
    "Before we proceed with scaling and other pre-procesing steps required to build the model, we shoud observe the correlation coefficients  between possibly all non-text variables. This will help us to reduce effects of multicollinearity, if present.\n",
    "\n",
    "### Correlation Matrix\n",
    "For the present analysis, we plan to focus only on payment as well as stock variables. The text variables such as email address and employee names will be ignored."
   ]
  },
  {
   "cell_type": "code",
   "execution_count": 103,
   "metadata": {},
   "outputs": [],
   "source": [
    "#filter the dataset to include above possible predictors.\n",
    "stock_payment_email_data=df_new.drop(['poi','employees','email_address'],axis=1)\n",
    "#compute the correlation matrix\n",
    "corr=stock_payment_email_data.corr()"
   ]
  },
  {
   "cell_type": "code",
   "execution_count": 104,
   "metadata": {},
   "outputs": [],
   "source": [
    "# Generate a mask for the upper triangle\n",
    "mask = np.zeros_like(corr, dtype=np.bool)\n",
    "mask[np.triu_indices_from(mask)] = True"
   ]
  },
  {
   "cell_type": "code",
   "execution_count": 105,
   "metadata": {},
   "outputs": [],
   "source": [
    "# Generate a custom diverging colormap\n",
    "cmap = sns.diverging_palette(220, 10, as_cmap=True)"
   ]
  },
  {
   "cell_type": "code",
   "execution_count": 106,
   "metadata": {
    "scrolled": true
   },
   "outputs": [
    {
     "data": {
      "image/png": "[encoded data removed]",
      "text/plain": [
       "<Figure size 432x288 with 2 Axes>"
      ]
     },
     "metadata": {},
     "output_type": "display_data"
    }
   ],
   "source": [
    "# Draw the heatmap with the mask and correct aspect ratio\n",
    "\n",
    "axes_heat=sns.heatmap(corr, mask=mask, cmap=cmap, center=0,cbar=True,\n",
    "             linewidths=.5,xticklabels=True,yticklabels=True, cbar_kws={\"shrink\": 1})\n",
    "#sns.plt.suptitle('lalala')\n",
    "axes_heat.set_title(\"Correlation Betweeen Numeric Variables\")\n",
    "plt.show()"
   ]
  },
  {
   "cell_type": "markdown",
   "metadata": {},
   "source": [
    "From the correlation matrix, it is easy to notice that following variables are strongly correlated;\n",
    "* Exercised Stock Options and total_stock_value,\n",
    "* to_messages and shared receipt with poi,\n",
    "\n",
    "This information is useful, in the sense that only one of those pairwise related variables needs to be considered while building the classification model. We can use both highly correlated variables, but it won't help since information is repeated.\n",
    " \n",
    " \n",
    "\n"
   ]
  },
  {
   "cell_type": "markdown",
   "metadata": {},
   "source": [
    "## Regularized Logistic Regression\n",
    "To begin the modeling process, we will go for the simple logistic regression model. To get best set of features, we will use L1- regularization, i.e. lasso regression. It is better in the sense that features are automatically selected using this method. Features that do not help much in discrimination are automatically dropped and helps to obtain a interpretable model. One of the main tasks in algorithms involving regularization is to select the proper vlaue of regularization parameter, $C$. Actually $C$ is the inverse of the regularization parameter, $\\lambda$. Higher the lambda, more regularization and we get a simple model with larger number of coefficients being pushed towards zero. It gives a simple model, but likely to underfit, even on the trainings set, a phenomenon called bias. On the other hand,  a very low value of lambda keeps almost all the features, most likely giving a complex model. The complex model petty much learns the training data and gives flawless performance on the training set, but generalizes poorly on the test set, hence overfitting. It should be noted that the main task of modeling is to be able to make reliable predictions on unseen data.\n",
    "Therefore, choosing a suitable value of parameter $C$, hence $\\lambda$ is crucial and can be done by cross validation. \n"
   ]
  },
  {
   "cell_type": "markdown",
   "metadata": {},
   "source": [
    "Presently, we plan to use only numeric variables for classification purpose. Therefore, we can safely drop text variables, employee name, and email address. It will be useful to scale the numeric variables such that they lie in the range $[0,1]$."
   ]
  },
  {
   "cell_type": "code",
   "execution_count": 107,
   "metadata": {},
   "outputs": [],
   "source": [
    "numeric_data_logit = df_new.drop(['employees','email_address'],axis=1)\n",
    "X=numeric_data_logit.drop(['poi'],axis=1).copy()\n",
    "y=df_new['poi'].copy()\n",
    "\n",
    "X_train, X_test, y_train, y_test=train_test_split(X,y,test_size=0.2, random_state=42,shuffle=True,stratify=y)\n"
   ]
  },
  {
   "cell_type": "code",
   "execution_count": 108,
   "metadata": {},
   "outputs": [
    {
     "data": {
      "text/plain": [
       "MinMaxScaler(copy=True, feature_range=(0, 1))"
      ]
     },
     "execution_count": 108,
     "metadata": {},
     "output_type": "execute_result"
    }
   ],
   "source": [
    "#scale the features\n",
    "\n",
    "scaler = MinMaxScaler()\n",
    "scaler.fit(X_train)"
   ]
  },
  {
   "cell_type": "code",
   "execution_count": 109,
   "metadata": {},
   "outputs": [],
   "source": [
    "X_train_scaled = scaler.transform(X_train)\n",
    "X_test_scaled = scaler.transform(X_test)\n",
    "#type(X_train_scaled)"
   ]
  },
  {
   "cell_type": "markdown",
   "metadata": {},
   "source": [
    "Once the scaling and transformation is done, we approach the main problem, selecting $C$ through cross-validation. One of the most popular methods to cross validate is using $k$-fold cross validation. In this approach, for every iteration, the training set is divided into two sets, one part is called validation set (or fold) and rest is training set. The model is trained on the training set and its performance is tested on the validation set.\n",
    "\n",
    "This process is repeated $k$ number of times, where $k$ is number of folds, default value is 5. This method can be used to choose optimal value of hyperparameters, in our case, parameter $C$. For our case, sickit learn gives default set of 10 values of $C$ ranging from low (i.e. high regularizaton) to high (i.e. low regularization). For each value of $C$, we train the model 5 times and test it on every fold i.e. validation set. Using a suitable metric (possibly $F1$ score for skewed data) we choose the best value of $C$. The mean value of $F1$ is taken over all 5 folds for each value of $C$ and we choose the $C$ corresponding to highest mean $F1$ score.   "
   ]
  },
  {
   "cell_type": "code",
   "execution_count": 110,
   "metadata": {},
   "outputs": [
    {
     "data": {
      "text/plain": [
       "pandas.core.series.Series"
      ]
     },
     "execution_count": 110,
     "metadata": {},
     "output_type": "execute_result"
    }
   ],
   "source": [
    "type(y_train)"
   ]
  },
  {
   "cell_type": "code",
   "execution_count": 111,
   "metadata": {},
   "outputs": [
    {
     "data": {
      "text/plain": [
       "LogisticRegressionCV(Cs=10, class_weight='balanced', cv=5, dual=False,\n",
       "           fit_intercept=True, intercept_scaling=1.0, max_iter=100,\n",
       "           multi_class='ovr', n_jobs=1, penalty='l1', random_state=42,\n",
       "           refit=True, scoring='f1', solver='liblinear', tol=0.0001,\n",
       "           verbose=0)"
      ]
     },
     "execution_count": 111,
     "metadata": {},
     "output_type": "execute_result"
    }
   ],
   "source": [
    "clf= LogisticRegressionCV(Cs=10,fit_intercept=True,cv=5,dual=False,penalty='l1',scoring='f1',solver='liblinear',\n",
    "                     class_weight='balanced',multi_class='ovr',random_state=42)\n",
    "clf.fit(X_train_scaled,y_train)"
   ]
  },
  {
   "cell_type": "code",
   "execution_count": 112,
   "metadata": {},
   "outputs": [
    {
     "data": {
      "text/plain": [
       "array([2.7825594])"
      ]
     },
     "execution_count": 112,
     "metadata": {},
     "output_type": "execute_result"
    }
   ],
   "source": [
    "#find the best value of C so that mean f1 score is the best\n",
    "\n",
    "clf.C_"
   ]
  },
  {
   "cell_type": "code",
   "execution_count": 113,
   "metadata": {},
   "outputs": [
    {
     "data": {
      "text/plain": [
       "array([1.00000000e-04, 7.74263683e-04, 5.99484250e-03, 4.64158883e-02,\n",
       "       3.59381366e-01, 2.78255940e+00, 2.15443469e+01, 1.66810054e+02,\n",
       "       1.29154967e+03, 1.00000000e+04])"
      ]
     },
     "execution_count": 113,
     "metadata": {},
     "output_type": "execute_result"
    }
   ],
   "source": [
    "#set of C values used\n",
    "\n",
    "clf.Cs_"
   ]
  },
  {
   "cell_type": "code",
   "execution_count": 114,
   "metadata": {},
   "outputs": [
    {
     "data": {
      "text/plain": [
       "array([[ 3.47366268, -8.76784005, -3.49333086, -0.92172098,  0.35922662,\n",
       "         2.76001484,  0.        ,  3.32686321,  0.22970512,  0.        ,\n",
       "         0.        ,  0.        ,  0.        ,  1.07390994,  1.79224754,\n",
       "         0.        , -1.85563837,  0.        ,  4.91670508,  0.        ]])"
      ]
     },
     "execution_count": 114,
     "metadata": {},
     "output_type": "execute_result"
    }
   ],
   "source": [
    "#final set of coefficients for the features used\n",
    "\n",
    "clf.coef_"
   ]
  },
  {
   "cell_type": "code",
   "execution_count": 115,
   "metadata": {},
   "outputs": [
    {
     "data": {
      "text/plain": [
       "Index([u'from_messages', u'loan_advances', u'long_term_incentive', u'other',\n",
       "       u'restricted_stock', u'shared_receipt_with_poi', u'total_payments',\n",
       "       u'total_payment'],\n",
       "      dtype='object')"
      ]
     },
     "execution_count": 115,
     "metadata": {},
     "output_type": "execute_result"
    }
   ],
   "source": [
    "#Identify the features which seem to be unimportant while doing lasso regression \n",
    "X.columns[clf.coef_[0]==0]"
   ]
  },
  {
   "cell_type": "markdown",
   "metadata": {},
   "source": [
    "An interesting observation; the features long_term_incentive and shared_receipt_with_poi have been eliminated during the regularization process. This does not mean that these features are not statistically significant while discriminating poi's from non-poi's. On the other hand, we saw in the EDA section that these features exhibit different behavior across both classes.  The lasso regression tells us that for that optimal value of parameter, $C$ these features are not contributing much to the classification process. It does not convey much information regarding stastical significance of the predictors.\n",
    "\n"
   ]
  },
  {
   "cell_type": "markdown",
   "metadata": {},
   "source": [
    "Now that we have obtained the $F1$ score on the entire training set, the next step is to do the predictions on the test set. We plan to use area under the ROC curve(i.e. AUC) as the performance measure. To this end, we predict probabilities of the individual being a POI on the test set. Using those predicted probabilities, we can plot the ROC curve and compute the AUC. Higher the AUC, better is the model. "
   ]
  },
  {
   "cell_type": "code",
   "execution_count": 116,
   "metadata": {},
   "outputs": [],
   "source": [
    "pred_proba=clf.predict_proba(X_test_scaled)\n",
    "pred_proba;"
   ]
  },
  {
   "cell_type": "code",
   "execution_count": 117,
   "metadata": {},
   "outputs": [
    {
     "data": {
      "text/plain": [
       "0.6799999999999999"
      ]
     },
     "execution_count": 117,
     "metadata": {},
     "output_type": "execute_result"
    }
   ],
   "source": [
    "fpr, tpr, thresholds = metrics.roc_curve(y_test,pred_proba[:,1],1)\n",
    "roc_auc=metrics.roc_auc_score(y_test,pred_proba[:,1])\n",
    "roc_auc"
   ]
  },
  {
   "cell_type": "code",
   "execution_count": 118,
   "metadata": {},
   "outputs": [
    {
     "data": {
      "image/png": "[encoded data removed]",
      "text/plain": [
       "<Figure size 432x288 with 1 Axes>"
      ]
     },
     "metadata": {},
     "output_type": "display_data"
    }
   ],
   "source": [
    "plt.plot(fpr, tpr, lw=2, alpha=0.75, color='darkorange',label='ROC curve (area = %0.3f)' % roc_auc)\n",
    "plt.plot([0, 1], [0, 1], linestyle='--', lw=2, color='r', alpha=.8)\n",
    "plt.ylabel(\"True Positive Rate\")\n",
    "plt.xlabel(\"False Positive Rate\")\n",
    "plt.title(\"ROC Curve\")\n",
    "plt.legend(loc=\"lower right\")\n",
    "plt.show()"
   ]
  },
  {
   "cell_type": "markdown",
   "metadata": {},
   "source": [
    "#### Discussion About ROC\n",
    "Every point in the ROC Curve is defined by the co-ordinates, False Positive Rate(FPR) and True Positive Rate(TPR). Each pair of FPR and TPR is computed for a given value of threshold probability. The function predict_proba gives probabilities predicted by the model. When the predicted probability is geater than threshold value, that example is labeled as 1 ('poi') by the model else 0 ('non-poi'). The quantities TPR and FPR can be computed as follows;\n",
    "\n",
    "$$TPR=\\frac{\\text{Number of True Positives}}{\\text{Total Number of Positive Examples(regardless of classification)}},$$\n",
    "$$FPR=\\frac{\\text{Number of False Positives}}{\\text{Total Number of Negative Examples(regardless of classification)}}$$\n",
    "\n",
    "The above graph is jumpy due to small test data size. Another interesting property of ROC curve is to find the optimal value of threshold probability, which will give the best TPR as well as the lowest FPR possible. Once the optimal cutoff is computed, we will label the test data using the cut off probability and predicted probailities by our model.\n",
    "A straightforward approach to find the optimal threshld is to treat both classes with equal weightage and find the threshold which maximises the difference between TPR and FPR. "
   ]
  },
  {
   "cell_type": "code",
   "execution_count": 119,
   "metadata": {},
   "outputs": [
    {
     "data": {
      "text/plain": [
       "0.2121637608566848"
      ]
     },
     "execution_count": 119,
     "metadata": {},
     "output_type": "execute_result"
    }
   ],
   "source": [
    "cutoff = thresholds[np.argmax(tpr - fpr)]\n",
    "cutoff"
   ]
  },
  {
   "cell_type": "code",
   "execution_count": 120,
   "metadata": {},
   "outputs": [
    {
     "data": {
      "text/plain": [
       "array([0., 0., 1., 0., 1., 1., 0., 1., 1., 1., 1., 1., 0., 1., 1., 0., 0.,\n",
       "       1., 0., 0., 0., 1., 1., 1., 1., 0., 1., 1., 0.])"
      ]
     },
     "execution_count": 120,
     "metadata": {},
     "output_type": "execute_result"
    }
   ],
   "source": [
    "probs_logit=pred_proba[:,1]\n",
    "probs_logit[probs_logit>=cutoff]=1\n",
    "probs_logit[probs_logit<cutoff]=0\n",
    "probs_logit"
   ]
  },
  {
   "cell_type": "markdown",
   "metadata": {},
   "source": [
    "After we label the test data as per our model, our task is to asess the performance of our model against the true data. For skewed data (i.e unbalanced concentration of classes) it is beneficial to use precision or recall as the performance yardsticks. Recall is the ability of the classifier to capture as many positive examples as possible, whereas Precision makes sure that an example is labelled positive only when the model is highly confident of that example being positive."
   ]
  },
  {
   "cell_type": "code",
   "execution_count": 121,
   "metadata": {},
   "outputs": [
    {
     "data": {
      "text/plain": [
       "1.0"
      ]
     },
     "execution_count": 121,
     "metadata": {},
     "output_type": "execute_result"
    }
   ],
   "source": [
    "recall_score(y_test,probs_logit)"
   ]
  },
  {
   "cell_type": "code",
   "execution_count": 122,
   "metadata": {},
   "outputs": [
    {
     "data": {
      "text/plain": [
       "0.23529411764705882"
      ]
     },
     "execution_count": 122,
     "metadata": {},
     "output_type": "execute_result"
    }
   ],
   "source": [
    "precision_score(y_test,probs_logit)"
   ]
  },
  {
   "cell_type": "markdown",
   "metadata": {},
   "source": [
    "#### Discussion\n",
    "Using the optimal cut-off obtained from the ROC crve, we obtain perfect Recall score but a low Precision. This is a typical classification scenario. As discussed earlier, Recall is the ability to capture as many positive examples as possible. In that process, the model sometimes identifies negative examples as positive so as not to leave any positive example behind. But this leads to lower true positive rate, i.e. Precision. This precision-recall tradeoff leads to an important question, which metric do we care more about? The answer depends on the business setting.\n",
    "\n",
    "In our example, we are trying to identify persons of influence, who might be involved in the Enron financial crisis. Therefore, it makes sense for us to capture all the POI's for sure. If some non-POI's also get captured, it is a risk worth taking. But we don't want to miss the POI's for sure."
   ]
  },
  {
   "cell_type": "markdown",
   "metadata": {},
   "source": [
    "### 5-Fold Cross Validation Modified\n",
    "In the above approach, we used the average $F1$ score across 5 folds of small size to choose optimal value for $C$. Therefore, we can't be very confident whether the model we got is optimal. This happened mostly becuse of our limited data size, just 142 records. To counter this problem, we plan to perform cross validation in a slightly different way in this section. To preserve consistence of class representation across folds, it is better to choose stratified approach. We use the datasets, X_train_scaled and X_test_scaled from above. Here is the strategy;\n",
    "\n",
    "For each value of $C$;\n",
    " * Perform 5-fold validation on train set,\n",
    " * Predict probabilities on each fold,\n",
    " * Concatenate the predicted probbailities to get enough sample size,\n",
    " * Use the concatenated list of predicted probabilities together with the entire training set to obtain the AUC.\n",
    "\n",
    "The goal is to find the parameter $C$ which gives the highest AUC."
   ]
  },
  {
   "cell_type": "code",
   "execution_count": 123,
   "metadata": {},
   "outputs": [
    {
     "name": "stdout",
     "output_type": "stream",
     "text": [
      "113\n",
      "(113, 20)\n"
     ]
    }
   ],
   "source": [
    "y_train.index=range(0,len(y_train))\n",
    "print(len(y_train));\n",
    "print(X_train_scaled.shape);"
   ]
  },
  {
   "cell_type": "code",
   "execution_count": 124,
   "metadata": {},
   "outputs": [
    {
     "name": "stdout",
     "output_type": "stream",
     "text": [
      "For C= 0.00 the AUC is given by 0.50\n",
      "For C= 0.00 the AUC is given by 0.50\n",
      "For C= 0.01 the AUC is given by 0.50\n",
      "For C= 0.05 the AUC is given by 0.53\n",
      "For C= 0.36 the AUC is given by 0.55\n",
      "For C= 2.78 the AUC is given by 0.78\n",
      "For C= 21.54 the AUC is given by 0.74\n",
      "For C= 166.81 the AUC is given by 0.64\n",
      "For C= 1291.55 the AUC is given by 0.52\n",
      "For C= 10000.00 the AUC is given by 0.53\n"
     ]
    }
   ],
   "source": [
    "skf = StratifiedKFold(n_splits=5,shuffle=True,random_state=42)\n",
    "for c in ['1.00000000e-04', '7.74263683e-04', '5.99484250e-03', '4.64158883e-02','3.59381366e-01', '2.78255940e+00', '2.15443469e+01', '1.66810054e+02',\n",
    "       '1.29154967e+03', '1.00000000e+04']:\n",
    "    proba_list1=[]\n",
    "    validation_list1=[]\n",
    "    for train_index, test_index in skf.split(X_train_scaled, y_train):\n",
    "        X_train, X_valid = X_train_scaled[train_index], X_train_scaled[test_index]\n",
    "        y_train_new, y_valid = np.array(y_train)[train_index], np.array(y_train)[test_index]\n",
    "        #print X_train.shape,y_train_new.shape\n",
    "        clf_logit = LogisticRegression(penalty='l1',C=float(c),random_state=42).fit(X_train, y_train_new)\n",
    "        probab=clf_logit.predict_proba(X_valid)\n",
    "        #print X_train.shape,X_valid.shape\n",
    "        proba_list1.append(list(probab[:,1]))\n",
    "        validation_list1.append(list(y_valid))\n",
    "    validation_probs=[i for s in proba_list1 for i in s]\n",
    "    validation_label=[i for s in validation_list1 for i in s]\n",
    "    #fpr, tpr, thresholds = metrics.roc_curve(np.array(validation_label),np.array(validation_probs),1)\n",
    "    auc = metrics.roc_auc_score(np.array(validation_label),np.array(validation_probs))\n",
    "    #print auc\n",
    "    #print type(float(c))\n",
    "    print \"For C= %0.2f the AUC is given by %0.2f\" %(float(c),auc)\n",
    "\n",
    "    \n",
    "    "
   ]
  },
  {
   "cell_type": "markdown",
   "metadata": {},
   "source": [
    "From the above analysis, we deduce that C=2.78 gives the highest value of AUC. Therefore, it makes sense to train the entire training set now using this value."
   ]
  },
  {
   "cell_type": "code",
   "execution_count": 125,
   "metadata": {},
   "outputs": [],
   "source": [
    "clf_optimal = LogisticRegression(penalty='l1',C=float(2.78)).fit(X_train_scaled, y_train)"
   ]
  },
  {
   "cell_type": "code",
   "execution_count": 126,
   "metadata": {},
   "outputs": [
    {
     "name": "stdout",
     "output_type": "stream",
     "text": [
      "             precision    recall  f1-score   support\n",
      "\n",
      "          0       0.88      0.92      0.90        25\n",
      "          1       0.33      0.25      0.29         4\n",
      "\n",
      "avg / total       0.81      0.83      0.82        29\n",
      "\n"
     ]
    }
   ],
   "source": [
    "test_prediction=clf_optimal.predict(X_test_scaled)\n",
    "print classification_report(y_test, test_prediction)"
   ]
  },
  {
   "cell_type": "markdown",
   "metadata": {},
   "source": [
    "It should be noted that here the default threshold has been used (i.e. 0.5) to perform the classification. Another question worth consideting is, whether this threshold is a good choice for the problem at hand."
   ]
  },
  {
   "cell_type": "code",
   "execution_count": 127,
   "metadata": {},
   "outputs": [
    {
     "data": {
      "text/plain": [
       "0.6699999999999999"
      ]
     },
     "execution_count": 127,
     "metadata": {},
     "output_type": "execute_result"
    }
   ],
   "source": [
    "pred_proba_opt=clf_optimal.predict_proba(X_test_scaled)\n",
    "fpr, tpr, thresholds = metrics.roc_curve(y_test,pred_proba_opt[:,1],1)\n",
    "roc_auc=metrics.roc_auc_score(y_test,pred_proba_opt[:,1])\n",
    "roc_auc\n"
   ]
  },
  {
   "cell_type": "markdown",
   "metadata": {},
   "source": [
    "#### Discussion\n",
    "This model where more data points have been used to find the optimal value of $C$ is not better, in terms of AUC, than the previous model using regular cross validation. We can still obtain perfect Recall but at cost of low Precision. This serves our purpose, so as to capture all poi's. But if we desire a better precision too, it is worthwhile looking for better models.\n",
    "One possible approach is to make new features from exising ones, i.e. feature engineering.\n",
    "\n",
    "## Feature Engineering\n",
    "Next, we check whether additional information can be generated from existing features. It seems a suitable option to define new features.\n",
    "Earlier, we saw that a poi on an average receives much more messages than he/she responds to. It will be useful to define a new feature; **ratio of from messages to received messages**. Next, our intuition is that out of all messages received, a poi is likely to receive higher number of messages from poi, as compared to their non-poi counterparts. It makes sense to define a new variable which meaures proportion of messages received from poi to  a given entity; let's call it **proportion_from_poi**. Another feature we can define is **total no. of messages**. Moreover, we can check proportion of received messages that were shared with a poi. This information is stored in the variable, **shared_with_poi_prop**.  \n",
    "In addition to email related features, we also define new features related to payment data. It is highly likely that poi's got huge bonuses as a share of their salary. Using this intuition, we define **bonus_salary_ratio** as ratio of Bonus to salary for the employee.\n",
    "Earlier, we saw that there are many entries with features as 0. While engineering these new features, it is possible that division by zero might occur. We will impute them by the median to avoid division by 0. "
   ]
  },
  {
   "cell_type": "code",
   "execution_count": 128,
   "metadata": {},
   "outputs": [],
   "source": [
    "median_from_messages = df_new['from_messages'].median()\n",
    "median_to_messages = df_new['to_messages'].median()\n",
    "median_salary = df_new['salary'].median()\n",
    "df_new2=df_new.copy()\n",
    "df_new2.replace({'from_messages': {0: median_from_messages},'to_messages':{0:median_to_messages},\\\n",
    "                'salary':{0:median_salary}},inplace=True)"
   ]
  },
  {
   "cell_type": "code",
   "execution_count": 129,
   "metadata": {},
   "outputs": [],
   "source": [
    "df_new2['email_messages_ratio'] = np.round(df_new2['to_messages']/df_new2['from_messages'],2) \n",
    "df_new2['proportion_from_poi']= np.round(df_new2['from_poi_to_this_person']/df_new2['to_messages'],2)\n",
    "df_new2['total_messages']= df_new2['to_messages']+df_new2['from_messages']\n",
    "df_new2['bonus_salary_ratio'] = np.round(df_new2['bonus']/df_new2['salary'],2)\n",
    "df_new2['shared_with_poi_prop']=np.round(df_new2['shared_receipt_with_poi']/df_new2['to_messages'],2)\n",
    "df_new2['bonus_salary_sum'] = np.round(df_new2['bonus']+df_new2['salary'],2)\n"
   ]
  },
  {
   "cell_type": "markdown",
   "metadata": {},
   "source": [
    "Now that we have constructed some new features, the original features are kinda redundant. Therefore, it makes sense to drop the original features, **to_messages**,**from_messages**,**shared_receipt_with_poi**,**bonus**, and **salary**.   "
   ]
  },
  {
   "cell_type": "code",
   "execution_count": 130,
   "metadata": {},
   "outputs": [],
   "source": [
    "df_new2.drop(['to_messages','from_messages','shared_receipt_with_poi','bonus','salary'],axis=1,inplace=True)"
   ]
  },
  {
   "cell_type": "code",
   "execution_count": 131,
   "metadata": {},
   "outputs": [
    {
     "data": {
      "image/png": "[encoded data removed]",
      "text/plain": [
       "<Figure size 432x288 with 1 Axes>"
      ]
     },
     "metadata": {},
     "output_type": "display_data"
    }
   ],
   "source": [
    "\n",
    "#it makes. sense to check whether the features, total messages and email messages ratio follow a pattern across poi's.\n",
    "custom = [Line2D([], [], marker='.', color='b', linestyle='None'),\n",
    "          Line2D([], [], marker='.', color='r', linestyle='None')]\n",
    "\n",
    "ax_total_message_ratio=sns.scatterplot(x='total_messages',y='email_messages_ratio',hue='poi',data=df_new2)\n",
    "ax_total_message_ratio.set_title(\"Email Messages Ratio vs. Total Messages Across Poi\",y=1.12,fontsize=20,fontweight='bold')\n",
    "ax_total_message_ratio.set_ylabel('Email Messages Ratio')\n",
    "ax_total_message_ratio.set_xlabel('Total Messages')\n",
    "#ax_total_message_ratio.legend(loc=\"upper right\")\n",
    "ax_total_message_ratio.legend(custom,['Non-Poi','Poi'],title=\"POI\",loc=\"upper right\")\n",
    "plt.show()"
   ]
  },
  {
   "cell_type": "markdown",
   "metadata": {},
   "source": [
    "### Correlation Matrix\n",
    "Now that we have new features defined, it will be interesting to see the correlation among all variables. Once we identify highly correlated variables, we can use that information to drop redundant information."
   ]
  },
  {
   "cell_type": "code",
   "execution_count": 132,
   "metadata": {},
   "outputs": [
    {
     "data": {
      "text/plain": [
       "(142, 21)"
      ]
     },
     "execution_count": 132,
     "metadata": {},
     "output_type": "execute_result"
    }
   ],
   "source": [
    "numeric_data=df_new2.drop(['employees','email_address','poi'],axis=1)\n",
    "numeric_data.shape"
   ]
  },
  {
   "cell_type": "code",
   "execution_count": 133,
   "metadata": {},
   "outputs": [
    {
     "data": {
      "image/png": "[encoded data removed]",
      "text/plain": [
       "<Figure size 432x288 with 2 Axes>"
      ]
     },
     "metadata": {},
     "output_type": "display_data"
    }
   ],
   "source": [
    "corr_numeric=numeric_data.corr()\n",
    "# Generate a mask for the upper triangle\n",
    "mask = np.zeros_like(corr_numeric, dtype=np.bool)\n",
    "mask[np.triu_indices_from(mask)] = True\n",
    "cmap = sns.diverging_palette(220, 10, as_cmap=True)\n",
    "\n",
    "# Draw the heatmap with the mask and correct aspect ratio\n",
    "\n",
    "axes_heat=sns.heatmap(corr_numeric, mask=mask, cmap=cmap, center=0,cbar=True,\n",
    "            square=True, linewidths=.15, xticklabels=True,yticklabels=True,cbar_kws={\"shrink\": 1})\n",
    "#sns.plt.suptitle('lalala')\n",
    "axes_heat.set_title(\"Correlation Betweeen All Numeric Variables\")\n",
    "plt.show()"
   ]
  },
  {
   "cell_type": "markdown",
   "metadata": {},
   "source": [
    "From the above correlation matrix, we deduce that following variables are pairwise highly correlated;\n",
    "* total payments and loan advance,\n",
    "* exercised stock options and total stock value, and\n",
    "* bonus salary ratio and total_bonus_salary.\n",
    "\n",
    "The variables, exercised stock options and total stock value seem to be quite different. The correlation between them is not obvious, therefore it makes sense to perform Principal Component Analysis (PCA) on these two variables to find independent and uncorrelated components. Before performng PCA, we should make sure that these two variables are on similar scale, otherwise standardization is needed. \n",
    "Aside, it is always helpful practice to have features on similar scale, otherwise some features might dominate, possibly causing slow convergence.\n",
    "\n",
    "\n"
   ]
  },
  {
   "cell_type": "code",
   "execution_count": 134,
   "metadata": {},
   "outputs": [
    {
     "data": {
      "text/html": [
       "<div>\n",
       "<style scoped>\n",
       "    .dataframe tbody tr th:only-of-type {\n",
       "        vertical-align: middle;\n",
       "    }\n",
       "\n",
       "    .dataframe tbody tr th {\n",
       "        vertical-align: top;\n",
       "    }\n",
       "\n",
       "    .dataframe thead th {\n",
       "        text-align: right;\n",
       "    }\n",
       "</style>\n",
       "<table border=\"1\" class=\"dataframe\">\n",
       "  <thead>\n",
       "    <tr style=\"text-align: right;\">\n",
       "      <th></th>\n",
       "      <th>exercised_stock_options</th>\n",
       "      <th>total_stock_value</th>\n",
       "    </tr>\n",
       "  </thead>\n",
       "  <tbody>\n",
       "    <tr>\n",
       "      <th>count</th>\n",
       "      <td>1.420000e+02</td>\n",
       "      <td>1.420000e+02</td>\n",
       "    </tr>\n",
       "    <tr>\n",
       "      <th>mean</th>\n",
       "      <td>2.195521e+06</td>\n",
       "      <td>3.059926e+06</td>\n",
       "    </tr>\n",
       "    <tr>\n",
       "      <th>std</th>\n",
       "      <td>4.951310e+06</td>\n",
       "      <td>6.305474e+06</td>\n",
       "    </tr>\n",
       "    <tr>\n",
       "      <th>min</th>\n",
       "      <td>0.000000e+00</td>\n",
       "      <td>0.000000e+00</td>\n",
       "    </tr>\n",
       "    <tr>\n",
       "      <th>25%</th>\n",
       "      <td>0.000000e+00</td>\n",
       "      <td>3.248138e+05</td>\n",
       "    </tr>\n",
       "    <tr>\n",
       "      <th>50%</th>\n",
       "      <td>6.224980e+05</td>\n",
       "      <td>9.860165e+05</td>\n",
       "    </tr>\n",
       "    <tr>\n",
       "      <th>75%</th>\n",
       "      <td>1.714221e+06</td>\n",
       "      <td>2.453312e+06</td>\n",
       "    </tr>\n",
       "    <tr>\n",
       "      <th>max</th>\n",
       "      <td>3.434838e+07</td>\n",
       "      <td>4.911008e+07</td>\n",
       "    </tr>\n",
       "  </tbody>\n",
       "</table>\n",
       "</div>"
      ],
      "text/plain": [
       "       exercised_stock_options  total_stock_value\n",
       "count             1.420000e+02       1.420000e+02\n",
       "mean              2.195521e+06       3.059926e+06\n",
       "std               4.951310e+06       6.305474e+06\n",
       "min               0.000000e+00       0.000000e+00\n",
       "25%               0.000000e+00       3.248138e+05\n",
       "50%               6.224980e+05       9.860165e+05\n",
       "75%               1.714221e+06       2.453312e+06\n",
       "max               3.434838e+07       4.911008e+07"
      ]
     },
     "execution_count": 134,
     "metadata": {},
     "output_type": "execute_result"
    }
   ],
   "source": [
    "df_new2[['exercised_stock_options','total_stock_value']].describe()"
   ]
  },
  {
   "cell_type": "code",
   "execution_count": 135,
   "metadata": {},
   "outputs": [],
   "source": [
    "correlated_stock_features=df_new2[['exercised_stock_options','total_stock_value']].copy()\n"
   ]
  },
  {
   "cell_type": "markdown",
   "metadata": {},
   "source": [
    "These two features are already on similar scale, hence rescaling is not needed. We can go ahead wth the PCA task. "
   ]
  },
  {
   "cell_type": "code",
   "execution_count": 136,
   "metadata": {},
   "outputs": [
    {
     "data": {
      "text/plain": [
       "(142, 1)"
      ]
     },
     "execution_count": 136,
     "metadata": {},
     "output_type": "execute_result"
    }
   ],
   "source": [
    "pca=PCA(n_components=1)\n",
    "stock_features_proj=pca.fit_transform(correlated_stock_features)\n",
    "stock_features_df=pd.DataFrame(stock_features_proj)\n",
    "stock_features_df.index = range(len(stock_features_df))\n",
    "stock_features_df.columns=range(stock_features_proj.shape[1])\n",
    "stock_features_df.shape\n"
   ]
  },
  {
   "cell_type": "code",
   "execution_count": 137,
   "metadata": {},
   "outputs": [
    {
     "data": {
      "text/html": [
       "<div>\n",
       "<style scoped>\n",
       "    .dataframe tbody tr th:only-of-type {\n",
       "        vertical-align: middle;\n",
       "    }\n",
       "\n",
       "    .dataframe tbody tr th {\n",
       "        vertical-align: top;\n",
       "    }\n",
       "\n",
       "    .dataframe thead th {\n",
       "        text-align: right;\n",
       "    }\n",
       "</style>\n",
       "<table border=\"1\" class=\"dataframe\">\n",
       "  <thead>\n",
       "    <tr style=\"text-align: right;\">\n",
       "      <th></th>\n",
       "      <th>proj_stock_value_options</th>\n",
       "    </tr>\n",
       "  </thead>\n",
       "  <tbody>\n",
       "    <tr>\n",
       "      <th>0</th>\n",
       "      <td>-3.301544e+06</td>\n",
       "    </tr>\n",
       "    <tr>\n",
       "      <th>1</th>\n",
       "      <td>8.723228e+06</td>\n",
       "    </tr>\n",
       "    <tr>\n",
       "      <th>2</th>\n",
       "      <td>4.510938e+06</td>\n",
       "    </tr>\n",
       "    <tr>\n",
       "      <th>3</th>\n",
       "      <td>-2.543579e+06</td>\n",
       "    </tr>\n",
       "    <tr>\n",
       "      <th>4</th>\n",
       "      <td>4.681763e+06</td>\n",
       "    </tr>\n",
       "  </tbody>\n",
       "</table>\n",
       "</div>"
      ],
      "text/plain": [
       "   proj_stock_value_options\n",
       "0             -3.301544e+06\n",
       "1              8.723228e+06\n",
       "2              4.510938e+06\n",
       "3             -2.543579e+06\n",
       "4              4.681763e+06"
      ]
     },
     "execution_count": 137,
     "metadata": {},
     "output_type": "execute_result"
    }
   ],
   "source": [
    "stock_features_df.rename(columns={0:'proj_stock_value_options'},\n",
    "inplace=True)\n",
    "stock_features_df.head(5)"
   ]
  },
  {
   "cell_type": "markdown",
   "metadata": {},
   "source": [
    "Similarly, we will perform pca on other correlated features. Let's check their stats first, whether we need to standardize them."
   ]
  },
  {
   "cell_type": "code",
   "execution_count": 138,
   "metadata": {},
   "outputs": [
    {
     "data": {
      "text/html": [
       "<div>\n",
       "<style scoped>\n",
       "    .dataframe tbody tr th:only-of-type {\n",
       "        vertical-align: middle;\n",
       "    }\n",
       "\n",
       "    .dataframe tbody tr th {\n",
       "        vertical-align: top;\n",
       "    }\n",
       "\n",
       "    .dataframe thead th {\n",
       "        text-align: right;\n",
       "    }\n",
       "</style>\n",
       "<table border=\"1\" class=\"dataframe\">\n",
       "  <thead>\n",
       "    <tr style=\"text-align: right;\">\n",
       "      <th></th>\n",
       "      <th>total_payments</th>\n",
       "      <th>loan_advances</th>\n",
       "    </tr>\n",
       "  </thead>\n",
       "  <tbody>\n",
       "    <tr>\n",
       "      <th>count</th>\n",
       "      <td>1.420000e+02</td>\n",
       "      <td>1.420000e+02</td>\n",
       "    </tr>\n",
       "    <tr>\n",
       "      <th>mean</th>\n",
       "      <td>2.179750e+06</td>\n",
       "      <td>5.910211e+05</td>\n",
       "    </tr>\n",
       "    <tr>\n",
       "      <th>std</th>\n",
       "      <td>8.837651e+06</td>\n",
       "      <td>6.842133e+06</td>\n",
       "    </tr>\n",
       "    <tr>\n",
       "      <th>min</th>\n",
       "      <td>0.000000e+00</td>\n",
       "      <td>0.000000e+00</td>\n",
       "    </tr>\n",
       "    <tr>\n",
       "      <th>25%</th>\n",
       "      <td>9.620200e+04</td>\n",
       "      <td>0.000000e+00</td>\n",
       "    </tr>\n",
       "    <tr>\n",
       "      <th>50%</th>\n",
       "      <td>9.413595e+05</td>\n",
       "      <td>0.000000e+00</td>\n",
       "    </tr>\n",
       "    <tr>\n",
       "      <th>75%</th>\n",
       "      <td>1.917959e+06</td>\n",
       "      <td>0.000000e+00</td>\n",
       "    </tr>\n",
       "    <tr>\n",
       "      <th>max</th>\n",
       "      <td>1.035598e+08</td>\n",
       "      <td>8.152500e+07</td>\n",
       "    </tr>\n",
       "  </tbody>\n",
       "</table>\n",
       "</div>"
      ],
      "text/plain": [
       "       total_payments  loan_advances\n",
       "count    1.420000e+02   1.420000e+02\n",
       "mean     2.179750e+06   5.910211e+05\n",
       "std      8.837651e+06   6.842133e+06\n",
       "min      0.000000e+00   0.000000e+00\n",
       "25%      9.620200e+04   0.000000e+00\n",
       "50%      9.413595e+05   0.000000e+00\n",
       "75%      1.917959e+06   0.000000e+00\n",
       "max      1.035598e+08   8.152500e+07"
      ]
     },
     "execution_count": 138,
     "metadata": {},
     "output_type": "execute_result"
    }
   ],
   "source": [
    "df_new2[['total_payments','loan_advances']].describe()"
   ]
  },
  {
   "cell_type": "code",
   "execution_count": 139,
   "metadata": {},
   "outputs": [],
   "source": [
    "correlated_payment_features=df_new2[['total_payments','loan_advances']].copy()\n"
   ]
  },
  {
   "cell_type": "code",
   "execution_count": 140,
   "metadata": {},
   "outputs": [
    {
     "data": {
      "text/plain": [
       "(142, 1)"
      ]
     },
     "execution_count": 140,
     "metadata": {},
     "output_type": "execute_result"
    }
   ],
   "source": [
    "pca=PCA(n_components=1)\n",
    "payment_features_proj=pca.fit_transform(correlated_payment_features)\n",
    "payment_features_df=pd.DataFrame(payment_features_proj)\n",
    "payment_features_df.index = range(len(payment_features_df))\n",
    "payment_features_df.columns=range(payment_features_proj.shape[1])\n",
    "payment_features_df.shape"
   ]
  },
  {
   "cell_type": "code",
   "execution_count": 141,
   "metadata": {},
   "outputs": [],
   "source": [
    "payment_features_df.rename(columns={0:'proj_loan_payment'},\n",
    "inplace=True)"
   ]
  },
  {
   "cell_type": "markdown",
   "metadata": {},
   "source": [
    "Earlier, we saw that bonus salary ratio and total_bonus_salary are highly correlated. We will drop one of them, say **total_bonus_salary**. Then we will concatenate the newly constructed dataframes to our original datatset."
   ]
  },
  {
   "cell_type": "code",
   "execution_count": 142,
   "metadata": {},
   "outputs": [],
   "source": [
    "df_new2=df_new2.drop(['bonus_salary_sum','employees','email_address','exercised_stock_options',\\\n",
    "                    'total_stock_value','loan_advances','total_payments'],axis=1)"
   ]
  },
  {
   "cell_type": "code",
   "execution_count": 143,
   "metadata": {},
   "outputs": [],
   "source": [
    "payment_features_df.index = range(1,len(payment_features_df)+1)\n",
    "stock_features_df.index = range(1,len(stock_features_df)+1)\n",
    "\n",
    "df_new2 = pd.concat([df_new2,payment_features_df],axis=1)\n",
    "new_data = pd.concat([df_new2,stock_features_df],axis=1)"
   ]
  },
  {
   "cell_type": "code",
   "execution_count": 144,
   "metadata": {},
   "outputs": [
    {
     "data": {
      "text/plain": [
       "Index([u'deferral_payments', u'deferred_income', u'director_fees', u'expenses',\n",
       "       u'from_poi_to_this_person', u'from_this_person_to_poi',\n",
       "       u'long_term_incentive', u'other', u'poi', u'restricted_stock',\n",
       "       u'restricted_stock_deferred', u'total_payment', u'email_messages_ratio',\n",
       "       u'proportion_from_poi', u'total_messages', u'bonus_salary_ratio',\n",
       "       u'shared_with_poi_prop', u'proj_loan_payment',\n",
       "       u'proj_stock_value_options'],\n",
       "      dtype='object')"
      ]
     },
     "execution_count": 144,
     "metadata": {},
     "output_type": "execute_result"
    }
   ],
   "source": [
    "new_data.columns"
   ]
  },
  {
   "cell_type": "markdown",
   "metadata": {},
   "source": [
    "As a quick check, do we still have correlated features. Most probably not, but let's be sure."
   ]
  },
  {
   "cell_type": "code",
   "execution_count": 145,
   "metadata": {},
   "outputs": [
    {
     "data": {
      "image/png": "[encoded data removed]",
      "text/plain": [
       "<Figure size 432x288 with 2 Axes>"
      ]
     },
     "metadata": {},
     "output_type": "display_data"
    }
   ],
   "source": [
    "\n",
    "corr_reduced=new_data.drop(['poi'],\n",
    "                           axis=1).corr()\n",
    "# Generate a mask for the upper triangle\n",
    "mask = np.zeros_like(corr_reduced, dtype=np.bool)\n",
    "mask[np.triu_indices_from(mask)] = True\n",
    "cmap = sns.diverging_palette(220, 20, as_cmap=True)\n",
    "\n",
    "# Draw the heatmap with the mask and correct aspect ratio\n",
    "\n",
    "axes_heat=sns.heatmap(corr_reduced, mask=mask, cmap=cmap, center=0,cbar=True,\n",
    "            square=True, linewidths=.15, xticklabels=True,yticklabels=True,cbar_kws={\"shrink\": 1})\n",
    "#sns.plt.suptitle('lalala')\n",
    "axes_heat.set_title(\"Correlation Betweeen All Numeric Variables After PCA\")\n",
    "plt.show()"
   ]
  },
  {
   "cell_type": "markdown",
   "metadata": {},
   "source": [
    "As expected, we don't see much collinearity any more in the data. This confirms that PCA has helped us to get a set of uncorrelated features. Therefore, no redundant informaton is being conveyed here. Next, we take one more attempt at modeling using logistic regression. To this end, we perform a train/test split. "
   ]
  },
  {
   "cell_type": "code",
   "execution_count": 146,
   "metadata": {},
   "outputs": [],
   "source": [
    "X=new_data.drop(['poi'],axis=1).copy()\n",
    "y=new_data['poi'].copy()\n",
    "\n",
    "X_train, X_test, y_train, y_test=train_test_split(X,y,test_size=0.2, random_state=42,shuffle=True,stratify=y)\n"
   ]
  },
  {
   "cell_type": "code",
   "execution_count": 147,
   "metadata": {},
   "outputs": [
    {
     "name": "stdout",
     "output_type": "stream",
     "text": [
      "0    99\n",
      "1    14\n",
      "Name: poi, dtype: int64\n",
      "0    25\n",
      "1     4\n",
      "Name: poi, dtype: int64\n"
     ]
    }
   ],
   "source": [
    "#Let's check distribution of poi's in both training as well as testing set.\n",
    "print y_train.value_counts()\n",
    "print y_test.value_counts()"
   ]
  },
  {
   "cell_type": "markdown",
   "metadata": {},
   "source": [
    "In both the sets, the percentage of poi's is quite uniform, hence stratification works. Next, we will use minmax strategy to obtain the values for all features between 0 and 1."
   ]
  },
  {
   "cell_type": "code",
   "execution_count": 148,
   "metadata": {},
   "outputs": [
    {
     "data": {
      "text/plain": [
       "MinMaxScaler(copy=True, feature_range=(0, 1))"
      ]
     },
     "execution_count": 148,
     "metadata": {},
     "output_type": "execute_result"
    }
   ],
   "source": [
    "#from sklearn.preprocessing import StandardScaler\n",
    "scaler = MinMaxScaler()\n",
    "scaler.fit(X_train[X_train.columns])\n"
   ]
  },
  {
   "cell_type": "markdown",
   "metadata": {},
   "source": [
    "Now that we have done the fitting of data, next we transform the training set"
   ]
  },
  {
   "cell_type": "code",
   "execution_count": 149,
   "metadata": {},
   "outputs": [],
   "source": [
    "X_train_scaled = scaler.transform(X_train)\n",
    "type(X_train_scaled);"
   ]
  },
  {
   "cell_type": "code",
   "execution_count": 150,
   "metadata": {},
   "outputs": [],
   "source": [
    "#next we use the same parameters to standardize the test set\n",
    "\n",
    "X_test_scaled=scaler.transform(X_test)\n",
    "X_test_scaled;"
   ]
  },
  {
   "cell_type": "code",
   "execution_count": 151,
   "metadata": {},
   "outputs": [
    {
     "name": "stdout",
     "output_type": "stream",
     "text": [
      "             precision    recall  f1-score   support\n",
      "\n",
      "          0       0.89      0.96      0.92        25\n",
      "          1       0.50      0.25      0.33         4\n",
      "\n",
      "avg / total       0.84      0.86      0.84        29\n",
      "\n"
     ]
    }
   ],
   "source": [
    "#now we use logistic regression\n",
    "clf_logit_pca = LogisticRegression().fit(X_train_scaled, y_train)\n",
    "y_pred_pca=clf_logit_pca.predict(X_test_scaled)\n",
    "\n",
    "print(classification_report(y_test, y_pred_pca))"
   ]
  },
  {
   "cell_type": "markdown",
   "metadata": {},
   "source": [
    "Using newly added features in conjunction with PCA, the precision has improved but we don't observe much difference in Recall score. \n",
    "\n",
    "In the inbuilt sickit learn logistic regression model, the default threshld is 0.5. In the next few code lines, we will try to customize it. One possible way to customize is by finding the optimal threshold using ROC curve. Then, we use the optimal threhold to generate new classification report.\n"
   ]
  },
  {
   "cell_type": "code",
   "execution_count": 152,
   "metadata": {},
   "outputs": [],
   "source": [
    "pred_proba=clf_logit_pca.predict_proba(X_test_scaled)\n",
    "pred_proba;"
   ]
  },
  {
   "cell_type": "code",
   "execution_count": 153,
   "metadata": {},
   "outputs": [],
   "source": [
    "precision,recall,thresholds=precision_recall_curve(y_test,pred_proba[:,1],1)"
   ]
  },
  {
   "cell_type": "code",
   "execution_count": 154,
   "metadata": {},
   "outputs": [
    {
     "data": {
      "image/png": "[encoded data removed]",
      "text/plain": [
       "<Figure size 432x288 with 1 Axes>"
      ]
     },
     "metadata": {},
     "output_type": "display_data"
    }
   ],
   "source": [
    "plt.title(\"Precision-Recall vs Threshold Chart\")\n",
    "plt.plot(thresholds, precision[:-1], \"b--\", label=\"Precision\")\n",
    "plt.plot(thresholds, recall[:-1], \"r--\", label=\"Recall\")\n",
    "plt.ylabel(\"Precision, Recall\")\n",
    "plt.xlabel(\"Threshold\")\n",
    "plt.legend(loc=\"upper right\")\n",
    "plt.axvline(0.56,color='green',linestyle='--')\n",
    "#plt.axhline(0.5,color='green',linestyle='-')\n",
    "#plt.axhline(0.25,color='blue',linestyle='-')\n",
    "#plt.ylim([0,1])\n",
    "plt.show()"
   ]
  },
  {
   "cell_type": "code",
   "execution_count": 155,
   "metadata": {},
   "outputs": [],
   "source": [
    "#y_test\n",
    "y_test.index = range(0,len(y_test))"
   ]
  },
  {
   "cell_type": "code",
   "execution_count": 156,
   "metadata": {},
   "outputs": [
    {
     "data": {
      "text/html": [
       "<div>\n",
       "<style scoped>\n",
       "    .dataframe tbody tr th:only-of-type {\n",
       "        vertical-align: middle;\n",
       "    }\n",
       "\n",
       "    .dataframe tbody tr th {\n",
       "        vertical-align: top;\n",
       "    }\n",
       "\n",
       "    .dataframe thead th {\n",
       "        text-align: right;\n",
       "    }\n",
       "</style>\n",
       "<table border=\"1\" class=\"dataframe\">\n",
       "  <thead>\n",
       "    <tr style=\"text-align: right;\">\n",
       "      <th></th>\n",
       "      <th>0</th>\n",
       "      <th>poi</th>\n",
       "    </tr>\n",
       "  </thead>\n",
       "  <tbody>\n",
       "    <tr>\n",
       "      <th>0</th>\n",
       "      <td>0.069581</td>\n",
       "      <td>0</td>\n",
       "    </tr>\n",
       "    <tr>\n",
       "      <th>1</th>\n",
       "      <td>0.071863</td>\n",
       "      <td>0</td>\n",
       "    </tr>\n",
       "    <tr>\n",
       "      <th>2</th>\n",
       "      <td>0.092856</td>\n",
       "      <td>0</td>\n",
       "    </tr>\n",
       "    <tr>\n",
       "      <th>3</th>\n",
       "      <td>0.097281</td>\n",
       "      <td>0</td>\n",
       "    </tr>\n",
       "    <tr>\n",
       "      <th>4</th>\n",
       "      <td>0.183809</td>\n",
       "      <td>0</td>\n",
       "    </tr>\n",
       "    <tr>\n",
       "      <th>5</th>\n",
       "      <td>0.274427</td>\n",
       "      <td>0</td>\n",
       "    </tr>\n",
       "    <tr>\n",
       "      <th>6</th>\n",
       "      <td>0.080112</td>\n",
       "      <td>0</td>\n",
       "    </tr>\n",
       "    <tr>\n",
       "      <th>7</th>\n",
       "      <td>0.207106</td>\n",
       "      <td>0</td>\n",
       "    </tr>\n",
       "    <tr>\n",
       "      <th>8</th>\n",
       "      <td>0.182900</td>\n",
       "      <td>0</td>\n",
       "    </tr>\n",
       "    <tr>\n",
       "      <th>9</th>\n",
       "      <td>0.103951</td>\n",
       "      <td>0</td>\n",
       "    </tr>\n",
       "    <tr>\n",
       "      <th>10</th>\n",
       "      <td>0.685948</td>\n",
       "      <td>0</td>\n",
       "    </tr>\n",
       "    <tr>\n",
       "      <th>11</th>\n",
       "      <td>0.128612</td>\n",
       "      <td>0</td>\n",
       "    </tr>\n",
       "    <tr>\n",
       "      <th>12</th>\n",
       "      <td>0.073227</td>\n",
       "      <td>0</td>\n",
       "    </tr>\n",
       "    <tr>\n",
       "      <th>13</th>\n",
       "      <td>0.173043</td>\n",
       "      <td>0</td>\n",
       "    </tr>\n",
       "    <tr>\n",
       "      <th>14</th>\n",
       "      <td>0.158961</td>\n",
       "      <td>1</td>\n",
       "    </tr>\n",
       "    <tr>\n",
       "      <th>15</th>\n",
       "      <td>0.067411</td>\n",
       "      <td>0</td>\n",
       "    </tr>\n",
       "    <tr>\n",
       "      <th>16</th>\n",
       "      <td>0.110396</td>\n",
       "      <td>0</td>\n",
       "    </tr>\n",
       "    <tr>\n",
       "      <th>17</th>\n",
       "      <td>0.556288</td>\n",
       "      <td>1</td>\n",
       "    </tr>\n",
       "    <tr>\n",
       "      <th>18</th>\n",
       "      <td>0.095384</td>\n",
       "      <td>0</td>\n",
       "    </tr>\n",
       "    <tr>\n",
       "      <th>19</th>\n",
       "      <td>0.078711</td>\n",
       "      <td>0</td>\n",
       "    </tr>\n",
       "    <tr>\n",
       "      <th>20</th>\n",
       "      <td>0.078291</td>\n",
       "      <td>0</td>\n",
       "    </tr>\n",
       "    <tr>\n",
       "      <th>21</th>\n",
       "      <td>0.092982</td>\n",
       "      <td>0</td>\n",
       "    </tr>\n",
       "    <tr>\n",
       "      <th>22</th>\n",
       "      <td>0.101401</td>\n",
       "      <td>1</td>\n",
       "    </tr>\n",
       "    <tr>\n",
       "      <th>23</th>\n",
       "      <td>0.125892</td>\n",
       "      <td>1</td>\n",
       "    </tr>\n",
       "    <tr>\n",
       "      <th>24</th>\n",
       "      <td>0.234686</td>\n",
       "      <td>0</td>\n",
       "    </tr>\n",
       "    <tr>\n",
       "      <th>25</th>\n",
       "      <td>0.049942</td>\n",
       "      <td>0</td>\n",
       "    </tr>\n",
       "    <tr>\n",
       "      <th>26</th>\n",
       "      <td>0.122282</td>\n",
       "      <td>0</td>\n",
       "    </tr>\n",
       "    <tr>\n",
       "      <th>27</th>\n",
       "      <td>0.291816</td>\n",
       "      <td>0</td>\n",
       "    </tr>\n",
       "    <tr>\n",
       "      <th>28</th>\n",
       "      <td>0.068962</td>\n",
       "      <td>0</td>\n",
       "    </tr>\n",
       "  </tbody>\n",
       "</table>\n",
       "</div>"
      ],
      "text/plain": [
       "           0  poi\n",
       "0   0.069581    0\n",
       "1   0.071863    0\n",
       "2   0.092856    0\n",
       "3   0.097281    0\n",
       "4   0.183809    0\n",
       "5   0.274427    0\n",
       "6   0.080112    0\n",
       "7   0.207106    0\n",
       "8   0.182900    0\n",
       "9   0.103951    0\n",
       "10  0.685948    0\n",
       "11  0.128612    0\n",
       "12  0.073227    0\n",
       "13  0.173043    0\n",
       "14  0.158961    1\n",
       "15  0.067411    0\n",
       "16  0.110396    0\n",
       "17  0.556288    1\n",
       "18  0.095384    0\n",
       "19  0.078711    0\n",
       "20  0.078291    0\n",
       "21  0.092982    0\n",
       "22  0.101401    1\n",
       "23  0.125892    1\n",
       "24  0.234686    0\n",
       "25  0.049942    0\n",
       "26  0.122282    0\n",
       "27  0.291816    0\n",
       "28  0.068962    0"
      ]
     },
     "metadata": {},
     "output_type": "display_data"
    }
   ],
   "source": [
    "display(pd.concat([pd.Series(pred_proba[:,1]),y_test],axis=1))"
   ]
  },
  {
   "cell_type": "markdown",
   "metadata": {},
   "source": [
    "An interesting observation, How come precision is declining sharply with increase of threshold? If we look at threshold of 0.56, we see in our proba that we have two values 0.56 and 0.68, they are getting predicted as 1 by our model. Please refer to above table. Hence precision is 0.5(no. of true positives divided by total  number of predicted positive). \n",
    "And as threshold crosses 0.68 then none of examples are labeled as poi by our model(check output of proba), hence precision goes to 0. \n",
    "\n",
    "#### ROC Curve\n",
    "Another idea is to plot the ROC curve. Each point on the ROC curve represents the values of true positive rate and false positive rate corresponding to a given threshold. Higher the area under the curve(i.e. AUC), better model. We observe that the AUC here is 0.7, which is slightly higher than the AUC obtained using Regularized Logistic Regression."
   ]
  },
  {
   "cell_type": "code",
   "execution_count": 157,
   "metadata": {},
   "outputs": [],
   "source": [
    "fpr, tpr, thresholds = metrics.roc_curve(y_test,pred_proba[:,1],1)\n",
    "roc_auc=metrics.roc_auc_score(y_test,pred_proba[:,1])\n",
    "#area=0.7"
   ]
  },
  {
   "cell_type": "code",
   "execution_count": 158,
   "metadata": {},
   "outputs": [
    {
     "data": {
      "image/png": "[encoded data removed]",
      "text/plain": [
       "<Figure size 432x288 with 1 Axes>"
      ]
     },
     "metadata": {},
     "output_type": "display_data"
    }
   ],
   "source": [
    "plt.plot(fpr, tpr, lw=2, alpha=0.75, color='darkorange',label='ROC curve (area = %0.2f)' % roc_auc)\n",
    "plt.plot([0, 1], [0, 1], linestyle='--', lw=2, color='r', alpha=.8)\n",
    "plt.ylabel(\"True Positive Rate\")\n",
    "plt.xlabel(\"False Positive Rate\")\n",
    "plt.title(\"ROC Curve\")\n",
    "plt.legend(loc=\"lower right\")\n",
    "plt.show()"
   ]
  },
  {
   "cell_type": "code",
   "execution_count": 159,
   "metadata": {},
   "outputs": [
    {
     "data": {
      "text/plain": [
       "0.10140069656386884"
      ]
     },
     "execution_count": 159,
     "metadata": {},
     "output_type": "execute_result"
    }
   ],
   "source": [
    "#find the optimal threshold as before giving equal weightage to both classes\n",
    "cutoff = thresholds[np.argmax(tpr - fpr)]\n",
    "cutoff"
   ]
  },
  {
   "cell_type": "markdown",
   "metadata": {},
   "source": [
    "Now that we know the optimal threshold, we will compute the precision and recall for this threshold. Sickit-learn, by default uses threhsold of 0.5, which might not suffice for all purposes. The threshold, we computed above is low, therefore might lead to high recall but low precision. To compute the precision and recall, we will use the predicted probabilities, pred_proba. Since we are mostly concerned about identifying POI's, we will select the second column of this array, pred_proba."
   ]
  },
  {
   "cell_type": "code",
   "execution_count": 160,
   "metadata": {},
   "outputs": [
    {
     "data": {
      "text/plain": [
       "array([0., 0., 0., 0., 1., 1., 0., 1., 1., 1., 1., 1., 0., 1., 1., 0., 1.,\n",
       "       1., 0., 0., 0., 0., 1., 1., 1., 0., 1., 1., 0.])"
      ]
     },
     "execution_count": 160,
     "metadata": {},
     "output_type": "execute_result"
    }
   ],
   "source": [
    "probs=pred_proba[:,1]\n",
    "probs[probs>=cutoff]=1\n",
    "probs[probs<cutoff]=0\n",
    "probs"
   ]
  },
  {
   "cell_type": "code",
   "execution_count": 161,
   "metadata": {},
   "outputs": [
    {
     "data": {
      "text/plain": [
       "array([0., 0., 0., 0., 1., 1., 0., 1., 1., 1., 1., 1., 0., 1., 1., 0., 1.,\n",
       "       1., 0., 0., 0., 0., 1., 1., 1., 0., 1., 1., 0.])"
      ]
     },
     "execution_count": 161,
     "metadata": {},
     "output_type": "execute_result"
    }
   ],
   "source": [
    "pred_proba[:,1]"
   ]
  },
  {
   "cell_type": "code",
   "execution_count": 162,
   "metadata": {},
   "outputs": [
    {
     "name": "stdout",
     "output_type": "stream",
     "text": [
      "Recall is 1.00\n",
      "Precision is 0.25\n"
     ]
    }
   ],
   "source": [
    "recall=recall_score(y_test,probs)\n",
    "precision= precision_score(y_test, probs)\n",
    "print 'Recall is %0.2f' %recall \n",
    "print 'Precision is %0.2f' %precision\n"
   ]
  },
  {
   "cell_type": "markdown",
   "metadata": {},
   "source": [
    "So, we obtained perfect recall score at the cost of low precision. A trade-off between precision and recall with changing the thresholds is expected. In the case of identifying POI's it makes sense to have high recall so as not to miss the POI's. It is more important to capture all the POI's, in other words persons responsible for the corruption. Meanwhile, if few non-POI's get flagged as POI (i.e. false positive), it is okay.\n",
    "\n"
   ]
  },
  {
   "cell_type": "markdown",
   "metadata": {},
   "source": [
    "## Random Forests\n",
    "\n",
    "Earlier, we saw that we achieved perfect recall score at the cost of low precision. The precision-recall tradeoff is a typical problem in classification algorithms. In an attempt to increase the recall without sacrificing too much on precision, it is needed to make a better model. Random forests have been a popular classification algorithm which is least likely to overfit because of averaging as well as low bias. On top of that, it has an in-built feature selection algorithm. To begin with, we will construct a simple random forest classifier. No feature engineering will be introduced. Only original set of features will be used.\n"
   ]
  },
  {
   "cell_type": "code",
   "execution_count": 163,
   "metadata": {},
   "outputs": [],
   "source": [
    "rf_data=df_new.drop(['poi','employees','email_address'],axis=1)\n",
    "y=df_new['poi'].copy()\n"
   ]
  },
  {
   "cell_type": "code",
   "execution_count": 164,
   "metadata": {},
   "outputs": [],
   "source": [
    "#split the data and preprocessing\n",
    "\n",
    "rf_train,rf_test,y_train,y_test = train_test_split(rf_data,y,test_size=0.2,shuffle=True,stratify=y,random_state=0)\n",
    "scaler = MinMaxScaler()\n",
    "scaler.fit(rf_train)\n",
    "rf_train_scaled = scaler.transform(rf_train)\n",
    "rf_test_scaled = scaler.transform(rf_test)"
   ]
  },
  {
   "cell_type": "markdown",
   "metadata": {},
   "source": [
    "### Hyperparameter Tuning\n",
    "One of the main features of Random Forests is selecting the optimal value of the hyperparameters. It has several hyperparameters that need to be tuned, such as number of Decision trees, Depth of the tree, Number of features used for splitting at each node in the tree, Minimum number of samples at a leaf so as to allow splitting etc. As we saw in the section on Regularization, cross validation is a suitable approach to select optimal values for these parameters. \n",
    "One possible approach is to define a list of values for each of the above hyperparameters and then use cross validation. But with so many hyperparameters, implementing cross-validation with each combination of values might be cumbersome. So we can start with tuning relatively more important hyperparameters, number of Decision trees, number of features selected for splitting at a tree node, and maximum depth of the tree.  \n",
    "\n",
    "We can use either grid search or randomized search and implement cross validation for each combination of values. The main difference between these two search strategies is, grid search executes cross validation for each combination of values, whereas ranodmized search randomly selects combinations of values and performs validation for only those combinations.   "
   ]
  },
  {
   "cell_type": "markdown",
   "metadata": {},
   "source": [
    "An important question to consider, is it okay to use AUC rather than a F1 score as a metric for validation?  yes we can use AUC as a validation metric and actually it is a better option since AUC is threshold independent, whereas F1 score takes a default threshold of 0.5 unless we provide a range of threshold values. So the next approach shd be; for every hyperparameter combination find the AUC cross each validation set. Once we get the highest AUC for a given hyperparameter combination, we will use that to train our entire training set. And then find predicted probabilities on the test set. Get a distribution of predicted probabilities (i.e. histogram) and choose the optimal threshold accordingly.\n",
    "\n",
    "#### Using AUC for Hyperparameter Selection\n",
    "We have already defined the base classifier as well as a parameter grid. Next, we perform grid search cross validation, but this time we use AUC score as the performance metric. We use the similar approach as we did while finding optimal value for regularization parameter, $C$.\n",
    "\n",
    "For each parameter combination;\n",
    " * Perform 5-fold validation on train set,\n",
    " * Predict probabilities on each fold,\n",
    " * Concatenate the predicted probbailities to get enough sample size,\n",
    " * Use the concatenated list of predicted probabilities together with the entire training set to obtain the AUC."
   ]
  },
  {
   "cell_type": "code",
   "execution_count": 165,
   "metadata": {},
   "outputs": [],
   "source": [
    "n_estimators= [5,10,20,50]\n",
    "max_features= [\"auto\",\"sqrt\"]\n",
    "max_depth=[4,6,8]\n",
    "para_grid=product(n_estimators,max_features,max_depth)\n"
   ]
  },
  {
   "cell_type": "code",
   "execution_count": 166,
   "metadata": {},
   "outputs": [],
   "source": [
    "skf = StratifiedKFold(n_splits=5,shuffle=True,random_state=42)\n",
    "\n",
    "def optimal_auc(para_grid,skf,rf_train_scaled,y_train):\n",
    "    best_score=0\n",
    "    dict_new={}\n",
    "    df_results=pd.DataFrame(columns=[\"Pred_proba\",\"y_true\"])\n",
    "    for param in para_grid:\n",
    "        proba_list=[]\n",
    "        test_list=[]\n",
    "        for train_index, test_index in skf.split(rf_train_scaled, y_train):\n",
    "            X_train, X_valid = rf_train_scaled[train_index], rf_train_scaled[test_index]\n",
    "            y_train_new, y_valid = np.array(y_train)[train_index], np.array(y_train)[test_index]\n",
    "        \n",
    "            clf_rf = RandomForestClassifier(max_depth= param[2], max_features= param[1], n_estimators= param[0],\\\n",
    "                                            random_state=42).fit(X_train, y_train_new)\n",
    "            probab=clf_rf.predict_proba(X_valid)\n",
    "            proba_list=proba_list+list(probab[:,1])\n",
    "            test_list=test_list+list(y_valid)\n",
    "    \n",
    "        roc_auc=metrics.roc_auc_score(np.array(test_list),np.array(proba_list))\n",
    "        if roc_auc>best_score:\n",
    "            best_score=roc_auc\n",
    "            print best_score\n",
    "            df_results['Pred_proba']=np.array(proba_list)\n",
    "            df_results['y_true']=np.array(test_list)\n",
    "            #dict_new[param]=(np.array(test_list),np.array(proba_list),roc_auc)\n",
    "        \n",
    "    #df_results=df_results.append({\"Max Depth\":param[2],\"No. of Estimators\":param[0],\"Max Features\":param[1],\"AUC\":roc_auc},ignore_index=True)\n",
    "    #print \"For the parameter combination %0.2f the AUC is %0.2f\" %param  %roc_auc\n",
    "    return (df_results,param)\n"
   ]
  },
  {
   "cell_type": "code",
   "execution_count": 167,
   "metadata": {},
   "outputs": [
    {
     "name": "stdout",
     "output_type": "stream",
     "text": [
      "0.7225829725829727\n",
      "0.801948051948052\n",
      "0.8084415584415583\n",
      "0.8167388167388168\n",
      "0.8369408369408369\n",
      "0.8398268398268398\n"
     ]
    }
   ],
   "source": [
    "roc_data=optimal_auc(para_grid,skf,rf_train_scaled,y_train)"
   ]
  },
  {
   "cell_type": "markdown",
   "metadata": {},
   "source": [
    "Using the predicted probabilities and true values for y, obtained corresponding to the optimal set of hhyperparameters, we plot the ROC curve."
   ]
  },
  {
   "cell_type": "code",
   "execution_count": 168,
   "metadata": {},
   "outputs": [
    {
     "data": {
      "image/png": "[encoded data removed]",
      "text/plain": [
       "<Figure size 432x288 with 1 Axes>"
      ]
     },
     "metadata": {},
     "output_type": "display_data"
    }
   ],
   "source": [
    "fpr, tpr, thresholds = metrics.roc_curve(np.array(roc_data[0]['y_true']),np.array(roc_data[0]['Pred_proba']),1)\n",
    "roc_auc=metrics.roc_auc_score(np.array(roc_data[0]['y_true']),np.array(roc_data[0]['Pred_proba']))\n",
    "plt.plot(fpr, tpr, lw=2, alpha=0.75, color='darkblue',label='ROC curve (area = %0.2f)' % roc_auc)\n",
    "plt.plot([0, 1], [0, 1], linestyle='--', lw=2, color='r', alpha=.8)\n",
    "plt.legend(loc=\"lower right\")\n",
    "plt.ylabel(\"True Positive Rate\")\n",
    "plt.xlabel(\"False Positive Rate\")\n",
    "plt.title(\"ROC Curve\")\n",
    "plt.show()"
   ]
  },
  {
   "cell_type": "markdown",
   "metadata": {},
   "source": [
    "Choosing the threshold is the next task. It is better to do this choice based on the validation set, as we did for the optimal set of hyperparameters."
   ]
  },
  {
   "cell_type": "code",
   "execution_count": 169,
   "metadata": {},
   "outputs": [
    {
     "data": {
      "image/png": "[encoded data removed]",
      "text/plain": [
       "<Figure size 432x288 with 1 Axes>"
      ]
     },
     "metadata": {},
     "output_type": "display_data"
    }
   ],
   "source": [
    "ax_probs=sns.distplot(roc_data[0]['Pred_proba'],bins=7,kde=False)\n",
    "plt.show()"
   ]
  },
  {
   "cell_type": "markdown",
   "metadata": {},
   "source": [
    "In order to choose the optimal threshold, the most important question to consider is; do we want to identify all POI's with certainity? As discussed earlier, changing threshold is a trade-off between senstivity(TPR) and specificity(1-FPR). "
   ]
  },
  {
   "cell_type": "code",
   "execution_count": 170,
   "metadata": {},
   "outputs": [
    {
     "name": "stdout",
     "output_type": "stream",
     "text": [
      "[0.86 0.7  0.6  0.5  0.44 0.42 0.36 0.32 0.28 0.26]\n"
     ]
    }
   ],
   "source": [
    "print thresholds[0:10]"
   ]
  },
  {
   "cell_type": "code",
   "execution_count": 171,
   "metadata": {},
   "outputs": [],
   "source": [
    "# define a function that accepts a threshold and prints sensitivity and specificity(1-fpr)\n",
    "def evaluate_threshold(threshold):\n",
    "    print('Sensitivity:', tpr[thresholds > threshold][-1])\n",
    "    print('Specificity:', 1 - fpr[thresholds > threshold][-1])"
   ]
  },
  {
   "cell_type": "markdown",
   "metadata": {},
   "source": [
    "The above function works because, thresholds(or predicted probabilities) is arranged in decreasing order where as tpr as well as FPR are ordered in ascending order. Using the istogram lotted above and this function, we will try few values for threshold."
   ]
  },
  {
   "cell_type": "code",
   "execution_count": 172,
   "metadata": {},
   "outputs": [
    {
     "name": "stdout",
     "output_type": "stream",
     "text": [
      "('Sensitivity:', 0.2857142857142857)\n",
      "('Specificity:', 0.9090909090909091)\n"
     ]
    }
   ],
   "source": [
    "evaluate_threshold(0.4)"
   ]
  },
  {
   "cell_type": "code",
   "execution_count": 176,
   "metadata": {},
   "outputs": [
    {
     "name": "stdout",
     "output_type": "stream",
     "text": [
      "('Sensitivity:', 0.6428571428571429)\n",
      "('Specificity:', 0.8383838383838383)\n"
     ]
    }
   ],
   "source": [
    "evaluate_threshold(0.25)"
   ]
  },
  {
   "cell_type": "markdown",
   "metadata": {},
   "source": [
    "Here we will go for lower threshold, so as to catch almost all the POI's. Next step is to train the classifier with optimal hyperparameters on the entire training set and predict probailities on test set."
   ]
  },
  {
   "cell_type": "code",
   "execution_count": 177,
   "metadata": {},
   "outputs": [],
   "source": [
    "rf_optimal_auc=RandomForestClassifier(max_depth= 8, max_features= 'sqrt', n_estimators= 20)\n",
    "rf_optimal_auc.fit(rf_train_scaled,y_train)\n",
    "#fpr, tpr, thresholds = metrics.roc_curve(np.array(y_train),np.array(rf_predict_train_probs[:,1]),1)\n",
    "test_probs=rf_optimal_auc.predict_proba(rf_test_scaled)\n",
    "test_probs[:,1][test_probs[:,1]>=0.25]=1\n",
    "test_probs[:,1][test_probs[:,1]<0.25]=0"
   ]
  },
  {
   "cell_type": "code",
   "execution_count": 178,
   "metadata": {},
   "outputs": [
    {
     "name": "stdout",
     "output_type": "stream",
     "text": [
      "             precision    recall  f1-score   support\n",
      "\n",
      "          0       0.84      0.64      0.73        25\n",
      "          1       0.10      0.25      0.14         4\n",
      "\n",
      "avg / total       0.74      0.59      0.65        29\n",
      "\n"
     ]
    }
   ],
   "source": [
    "print classification_report(y_test,test_probs[:,1])"
   ]
  },
  {
   "cell_type": "markdown",
   "metadata": {},
   "source": [
    "### Discussion and Conclusion\n",
    "In this post, we studied two different approaches to classification, Logistic regression with Regularization, and Random Forests. We learned about different approaches to Hyperparameter tuning. Cross-validation is essential to Hyperparameter tuning so as to prevent overfitting.\n",
    "\n",
    "The main takeaway from this post is the novel approach to perform cross validation, discussed in the section, AUC for Hyperparameter Selection. Since, we have a very small dataset, we tried to use a novel approach to perform cross validation. Rather than using standard Grid Search approach or Randomized Search approach, we came up with a new approach so that scarcity of data is not an obstacle. "
   ]
  }
 ],
 "metadata": {
  "kernelspec": {
   "display_name": "Python 2",
   "language": "python",
   "name": "python2"
  },
  "language_info": {
   "codemirror_mode": {
    "name": "ipython",
    "version": 2
   },
   "file_extension": ".py",
   "mimetype": "text/x-python",
   "name": "python",
   "nbconvert_exporter": "python",
   "pygments_lexer": "ipython2",
   "version": "2.7.15"
  }
 },
 "nbformat": 4,
 "nbformat_minor": 2
}
